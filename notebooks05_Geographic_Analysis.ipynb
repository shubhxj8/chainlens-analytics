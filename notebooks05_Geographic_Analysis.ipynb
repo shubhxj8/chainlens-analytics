{
  "nbformat": 4,
  "nbformat_minor": 0,
  "metadata": {
    "colab": {
      "provenance": [],
      "authorship_tag": "ABX9TyNDpIVJkZliDfUD3rK01bTc"
    },
    "kernelspec": {
      "name": "python3",
      "display_name": "Python 3"
    },
    "language_info": {
      "name": "python"
    }
  },
  "cells": [
    {
      "cell_type": "markdown",
      "source": [
        "## **1. Import Required Libraries**\n",
        "\n",
        "<hr style=\"border: 1px solid red;\">"
      ],
      "metadata": {
        "id": "qGlbP3T_UPuo"
      }
    },
    {
      "cell_type": "code",
      "source": [
        "import pandas as pd\n",
        "import numpy as np\n",
        "import matplotlib.pyplot as plt\n",
        "import seaborn as sns\n",
        "import folium\n",
        "from collections import Counter\n",
        "\n",
        "# Set visualization theme\n",
        "sns.set_theme(style=\"whitegrid\", palette=\"husl\")\n",
        "plt.rcParams['figure.figsize'] = (12, 8)"
      ],
      "metadata": {
        "id": "wtFYKp4xUezq"
      },
      "execution_count": 1,
      "outputs": []
    },
    {
      "cell_type": "markdown",
      "source": [
        "<hr style=\"border: 1px solid red;\">"
      ],
      "metadata": {
        "id": "XKAMklMYUoWB"
      }
    },
    {
      "cell_type": "markdown",
      "source": [
        "## **2. Mount Google Drive and Load Data**\n",
        "\n",
        "<hr style=\"border: 1px solid red;\">"
      ],
      "metadata": {
        "id": "_yySkYy2Uppa"
      }
    },
    {
      "cell_type": "code",
      "source": [
        "from google.colab import drive\n",
        "drive.mount('/content/drive')"
      ],
      "metadata": {
        "colab": {
          "base_uri": "https://localhost:8080/"
        },
        "id": "kxKKCO7FUkvD",
        "outputId": "cbee6b9e-9735-4930-bd0f-3314ed48edee"
      },
      "execution_count": 2,
      "outputs": [
        {
          "output_type": "stream",
          "name": "stdout",
          "text": [
            "Mounted at /content/drive\n"
          ]
        }
      ]
    },
    {
      "cell_type": "markdown",
      "source": [
        "***"
      ],
      "metadata": {
        "id": "okgovPC7UyGf"
      }
    },
    {
      "cell_type": "code",
      "source": [
        "import os\n",
        "supply_chain_path = '/content/drive/My Drive/supply_chain'\n",
        "print(os.listdir(supply_chain_path))"
      ],
      "metadata": {
        "colab": {
          "base_uri": "https://localhost:8080/"
        },
        "id": "tWbpjwXuUyy3",
        "outputId": "935829cd-b4e7-4a73-86b9-cc9cf2976b71"
      },
      "execution_count": 3,
      "outputs": [
        {
          "output_type": "stream",
          "name": "stdout",
          "text": [
            "['DescriptionDataCoSupplyChain.csv', 'tokenized_access_logs.csv', 'DataCoSupplyChainDataset.csv', 'supply_chain_data_cleaned.csv']\n"
          ]
        }
      ]
    },
    {
      "cell_type": "markdown",
      "source": [
        "***"
      ],
      "metadata": {
        "id": "9jy_8_7NUzNx"
      }
    },
    {
      "cell_type": "code",
      "source": [
        "df = pd.read_csv('/content/drive/My Drive/supply_chain/supply_chain_data_cleaned.csv', encoding='latin-1')"
      ],
      "metadata": {
        "id": "b6FpVxYhUzwG"
      },
      "execution_count": 4,
      "outputs": []
    },
    {
      "cell_type": "markdown",
      "source": [
        "<hr style=\"border: 1px solid red;\">"
      ],
      "metadata": {
        "id": "T32_7nJMVqwZ"
      }
    },
    {
      "cell_type": "markdown",
      "source": [
        "## **3. Explore Geographic Columns**\n",
        "***\n",
        "Examine the available geographic information to understand what geographic analysis we can perform.\n",
        "***\n",
        "<hr style=\"border: 1px solid red;\">"
      ],
      "metadata": {
        "id": "Cs1v-7LhVGji"
      }
    },
    {
      "cell_type": "code",
      "source": [
        "# Examine geographic columns\n",
        "geographic_columns = [col for col in df.columns if any(geo_term in col.lower()\n",
        "                     for geo_term in ['country', 'city', 'state', 'region', 'latitude', 'longitude'])]\n",
        "\n",
        "print(\"Available Geographic Columns:\")\n",
        "for col in geographic_columns:\n",
        "    print(f\"- {col}: {df[col].nunique()} unique values\")\n",
        "\n",
        "print(f\"\\nDataset shape: {df.shape}\")\n",
        "df[geographic_columns].head()"
      ],
      "metadata": {
        "colab": {
          "base_uri": "https://localhost:8080/",
          "height": 414
        },
        "id": "mBttdrC5VeNY",
        "outputId": "ec029608-8d5b-4443-a2e2-7b9aaaa813a6"
      },
      "execution_count": 5,
      "outputs": [
        {
          "output_type": "stream",
          "name": "stdout",
          "text": [
            "Available Geographic Columns:\n",
            "- Customer City: 562 unique values\n",
            "- Customer Country: 2 unique values\n",
            "- Customer State: 44 unique values\n",
            "- Latitude: 11247 unique values\n",
            "- Longitude: 4485 unique values\n",
            "- Order City: 3597 unique values\n",
            "- Order Country: 164 unique values\n",
            "- Order Region: 23 unique values\n",
            "- Order State: 1089 unique values\n",
            "\n",
            "Dataset shape: (180508, 45)\n"
          ]
        },
        {
          "output_type": "execute_result",
          "data": {
            "text/plain": [
              "  Customer City Customer Country Customer State   Latitude   Longitude  \\\n",
              "0        Caguas      Puerto Rico             PR  18.251453  -66.037056   \n",
              "1        Caguas      Puerto Rico             PR  18.279451  -66.037064   \n",
              "2      San Jose          EE. UU.             CA  37.292233 -121.881279   \n",
              "3   Los Angeles          EE. UU.             CA  34.125946 -118.291016   \n",
              "4        Caguas      Puerto Rico             PR  18.253769  -66.037048   \n",
              "\n",
              "   Order City Order Country    Order Region      Order State  \n",
              "0      Bekasi     Indonesia  Southeast Asia  Java Occidental  \n",
              "1     Bikaner         India      South Asia        RajastÃ¡n  \n",
              "2     Bikaner         India      South Asia        RajastÃ¡n  \n",
              "3  Townsville     Australia         Oceania       Queensland  \n",
              "4  Townsville     Australia         Oceania       Queensland  "
            ],
            "text/html": [
              "\n",
              "  <div id=\"df-403b9128-5204-4c71-a0bf-ad414d3c536d\" class=\"colab-df-container\">\n",
              "    <div>\n",
              "<style scoped>\n",
              "    .dataframe tbody tr th:only-of-type {\n",
              "        vertical-align: middle;\n",
              "    }\n",
              "\n",
              "    .dataframe tbody tr th {\n",
              "        vertical-align: top;\n",
              "    }\n",
              "\n",
              "    .dataframe thead th {\n",
              "        text-align: right;\n",
              "    }\n",
              "</style>\n",
              "<table border=\"1\" class=\"dataframe\">\n",
              "  <thead>\n",
              "    <tr style=\"text-align: right;\">\n",
              "      <th></th>\n",
              "      <th>Customer City</th>\n",
              "      <th>Customer Country</th>\n",
              "      <th>Customer State</th>\n",
              "      <th>Latitude</th>\n",
              "      <th>Longitude</th>\n",
              "      <th>Order City</th>\n",
              "      <th>Order Country</th>\n",
              "      <th>Order Region</th>\n",
              "      <th>Order State</th>\n",
              "    </tr>\n",
              "  </thead>\n",
              "  <tbody>\n",
              "    <tr>\n",
              "      <th>0</th>\n",
              "      <td>Caguas</td>\n",
              "      <td>Puerto Rico</td>\n",
              "      <td>PR</td>\n",
              "      <td>18.251453</td>\n",
              "      <td>-66.037056</td>\n",
              "      <td>Bekasi</td>\n",
              "      <td>Indonesia</td>\n",
              "      <td>Southeast Asia</td>\n",
              "      <td>Java Occidental</td>\n",
              "    </tr>\n",
              "    <tr>\n",
              "      <th>1</th>\n",
              "      <td>Caguas</td>\n",
              "      <td>Puerto Rico</td>\n",
              "      <td>PR</td>\n",
              "      <td>18.279451</td>\n",
              "      <td>-66.037064</td>\n",
              "      <td>Bikaner</td>\n",
              "      <td>India</td>\n",
              "      <td>South Asia</td>\n",
              "      <td>RajastÃ¡n</td>\n",
              "    </tr>\n",
              "    <tr>\n",
              "      <th>2</th>\n",
              "      <td>San Jose</td>\n",
              "      <td>EE. UU.</td>\n",
              "      <td>CA</td>\n",
              "      <td>37.292233</td>\n",
              "      <td>-121.881279</td>\n",
              "      <td>Bikaner</td>\n",
              "      <td>India</td>\n",
              "      <td>South Asia</td>\n",
              "      <td>RajastÃ¡n</td>\n",
              "    </tr>\n",
              "    <tr>\n",
              "      <th>3</th>\n",
              "      <td>Los Angeles</td>\n",
              "      <td>EE. UU.</td>\n",
              "      <td>CA</td>\n",
              "      <td>34.125946</td>\n",
              "      <td>-118.291016</td>\n",
              "      <td>Townsville</td>\n",
              "      <td>Australia</td>\n",
              "      <td>Oceania</td>\n",
              "      <td>Queensland</td>\n",
              "    </tr>\n",
              "    <tr>\n",
              "      <th>4</th>\n",
              "      <td>Caguas</td>\n",
              "      <td>Puerto Rico</td>\n",
              "      <td>PR</td>\n",
              "      <td>18.253769</td>\n",
              "      <td>-66.037048</td>\n",
              "      <td>Townsville</td>\n",
              "      <td>Australia</td>\n",
              "      <td>Oceania</td>\n",
              "      <td>Queensland</td>\n",
              "    </tr>\n",
              "  </tbody>\n",
              "</table>\n",
              "</div>\n",
              "    <div class=\"colab-df-buttons\">\n",
              "\n",
              "  <div class=\"colab-df-container\">\n",
              "    <button class=\"colab-df-convert\" onclick=\"convertToInteractive('df-403b9128-5204-4c71-a0bf-ad414d3c536d')\"\n",
              "            title=\"Convert this dataframe to an interactive table.\"\n",
              "            style=\"display:none;\">\n",
              "\n",
              "  <svg xmlns=\"http://www.w3.org/2000/svg\" height=\"24px\" viewBox=\"0 -960 960 960\">\n",
              "    <path d=\"M120-120v-720h720v720H120Zm60-500h600v-160H180v160Zm220 220h160v-160H400v160Zm0 220h160v-160H400v160ZM180-400h160v-160H180v160Zm440 0h160v-160H620v160ZM180-180h160v-160H180v160Zm440 0h160v-160H620v160Z\"/>\n",
              "  </svg>\n",
              "    </button>\n",
              "\n",
              "  <style>\n",
              "    .colab-df-container {\n",
              "      display:flex;\n",
              "      gap: 12px;\n",
              "    }\n",
              "\n",
              "    .colab-df-convert {\n",
              "      background-color: #E8F0FE;\n",
              "      border: none;\n",
              "      border-radius: 50%;\n",
              "      cursor: pointer;\n",
              "      display: none;\n",
              "      fill: #1967D2;\n",
              "      height: 32px;\n",
              "      padding: 0 0 0 0;\n",
              "      width: 32px;\n",
              "    }\n",
              "\n",
              "    .colab-df-convert:hover {\n",
              "      background-color: #E2EBFA;\n",
              "      box-shadow: 0px 1px 2px rgba(60, 64, 67, 0.3), 0px 1px 3px 1px rgba(60, 64, 67, 0.15);\n",
              "      fill: #174EA6;\n",
              "    }\n",
              "\n",
              "    .colab-df-buttons div {\n",
              "      margin-bottom: 4px;\n",
              "    }\n",
              "\n",
              "    [theme=dark] .colab-df-convert {\n",
              "      background-color: #3B4455;\n",
              "      fill: #D2E3FC;\n",
              "    }\n",
              "\n",
              "    [theme=dark] .colab-df-convert:hover {\n",
              "      background-color: #434B5C;\n",
              "      box-shadow: 0px 1px 3px 1px rgba(0, 0, 0, 0.15);\n",
              "      filter: drop-shadow(0px 1px 2px rgba(0, 0, 0, 0.3));\n",
              "      fill: #FFFFFF;\n",
              "    }\n",
              "  </style>\n",
              "\n",
              "    <script>\n",
              "      const buttonEl =\n",
              "        document.querySelector('#df-403b9128-5204-4c71-a0bf-ad414d3c536d button.colab-df-convert');\n",
              "      buttonEl.style.display =\n",
              "        google.colab.kernel.accessAllowed ? 'block' : 'none';\n",
              "\n",
              "      async function convertToInteractive(key) {\n",
              "        const element = document.querySelector('#df-403b9128-5204-4c71-a0bf-ad414d3c536d');\n",
              "        const dataTable =\n",
              "          await google.colab.kernel.invokeFunction('convertToInteractive',\n",
              "                                                    [key], {});\n",
              "        if (!dataTable) return;\n",
              "\n",
              "        const docLinkHtml = 'Like what you see? Visit the ' +\n",
              "          '<a target=\"_blank\" href=https://colab.research.google.com/notebooks/data_table.ipynb>data table notebook</a>'\n",
              "          + ' to learn more about interactive tables.';\n",
              "        element.innerHTML = '';\n",
              "        dataTable['output_type'] = 'display_data';\n",
              "        await google.colab.output.renderOutput(dataTable, element);\n",
              "        const docLink = document.createElement('div');\n",
              "        docLink.innerHTML = docLinkHtml;\n",
              "        element.appendChild(docLink);\n",
              "      }\n",
              "    </script>\n",
              "  </div>\n",
              "\n",
              "\n",
              "    <div id=\"df-609edc8b-79ad-4473-8a1c-69dabb0669d0\">\n",
              "      <button class=\"colab-df-quickchart\" onclick=\"quickchart('df-609edc8b-79ad-4473-8a1c-69dabb0669d0')\"\n",
              "                title=\"Suggest charts\"\n",
              "                style=\"display:none;\">\n",
              "\n",
              "<svg xmlns=\"http://www.w3.org/2000/svg\" height=\"24px\"viewBox=\"0 0 24 24\"\n",
              "     width=\"24px\">\n",
              "    <g>\n",
              "        <path d=\"M19 3H5c-1.1 0-2 .9-2 2v14c0 1.1.9 2 2 2h14c1.1 0 2-.9 2-2V5c0-1.1-.9-2-2-2zM9 17H7v-7h2v7zm4 0h-2V7h2v10zm4 0h-2v-4h2v4z\"/>\n",
              "    </g>\n",
              "</svg>\n",
              "      </button>\n",
              "\n",
              "<style>\n",
              "  .colab-df-quickchart {\n",
              "      --bg-color: #E8F0FE;\n",
              "      --fill-color: #1967D2;\n",
              "      --hover-bg-color: #E2EBFA;\n",
              "      --hover-fill-color: #174EA6;\n",
              "      --disabled-fill-color: #AAA;\n",
              "      --disabled-bg-color: #DDD;\n",
              "  }\n",
              "\n",
              "  [theme=dark] .colab-df-quickchart {\n",
              "      --bg-color: #3B4455;\n",
              "      --fill-color: #D2E3FC;\n",
              "      --hover-bg-color: #434B5C;\n",
              "      --hover-fill-color: #FFFFFF;\n",
              "      --disabled-bg-color: #3B4455;\n",
              "      --disabled-fill-color: #666;\n",
              "  }\n",
              "\n",
              "  .colab-df-quickchart {\n",
              "    background-color: var(--bg-color);\n",
              "    border: none;\n",
              "    border-radius: 50%;\n",
              "    cursor: pointer;\n",
              "    display: none;\n",
              "    fill: var(--fill-color);\n",
              "    height: 32px;\n",
              "    padding: 0;\n",
              "    width: 32px;\n",
              "  }\n",
              "\n",
              "  .colab-df-quickchart:hover {\n",
              "    background-color: var(--hover-bg-color);\n",
              "    box-shadow: 0 1px 2px rgba(60, 64, 67, 0.3), 0 1px 3px 1px rgba(60, 64, 67, 0.15);\n",
              "    fill: var(--button-hover-fill-color);\n",
              "  }\n",
              "\n",
              "  .colab-df-quickchart-complete:disabled,\n",
              "  .colab-df-quickchart-complete:disabled:hover {\n",
              "    background-color: var(--disabled-bg-color);\n",
              "    fill: var(--disabled-fill-color);\n",
              "    box-shadow: none;\n",
              "  }\n",
              "\n",
              "  .colab-df-spinner {\n",
              "    border: 2px solid var(--fill-color);\n",
              "    border-color: transparent;\n",
              "    border-bottom-color: var(--fill-color);\n",
              "    animation:\n",
              "      spin 1s steps(1) infinite;\n",
              "  }\n",
              "\n",
              "  @keyframes spin {\n",
              "    0% {\n",
              "      border-color: transparent;\n",
              "      border-bottom-color: var(--fill-color);\n",
              "      border-left-color: var(--fill-color);\n",
              "    }\n",
              "    20% {\n",
              "      border-color: transparent;\n",
              "      border-left-color: var(--fill-color);\n",
              "      border-top-color: var(--fill-color);\n",
              "    }\n",
              "    30% {\n",
              "      border-color: transparent;\n",
              "      border-left-color: var(--fill-color);\n",
              "      border-top-color: var(--fill-color);\n",
              "      border-right-color: var(--fill-color);\n",
              "    }\n",
              "    40% {\n",
              "      border-color: transparent;\n",
              "      border-right-color: var(--fill-color);\n",
              "      border-top-color: var(--fill-color);\n",
              "    }\n",
              "    60% {\n",
              "      border-color: transparent;\n",
              "      border-right-color: var(--fill-color);\n",
              "    }\n",
              "    80% {\n",
              "      border-color: transparent;\n",
              "      border-right-color: var(--fill-color);\n",
              "      border-bottom-color: var(--fill-color);\n",
              "    }\n",
              "    90% {\n",
              "      border-color: transparent;\n",
              "      border-bottom-color: var(--fill-color);\n",
              "    }\n",
              "  }\n",
              "</style>\n",
              "\n",
              "      <script>\n",
              "        async function quickchart(key) {\n",
              "          const quickchartButtonEl =\n",
              "            document.querySelector('#' + key + ' button');\n",
              "          quickchartButtonEl.disabled = true;  // To prevent multiple clicks.\n",
              "          quickchartButtonEl.classList.add('colab-df-spinner');\n",
              "          try {\n",
              "            const charts = await google.colab.kernel.invokeFunction(\n",
              "                'suggestCharts', [key], {});\n",
              "          } catch (error) {\n",
              "            console.error('Error during call to suggestCharts:', error);\n",
              "          }\n",
              "          quickchartButtonEl.classList.remove('colab-df-spinner');\n",
              "          quickchartButtonEl.classList.add('colab-df-quickchart-complete');\n",
              "        }\n",
              "        (() => {\n",
              "          let quickchartButtonEl =\n",
              "            document.querySelector('#df-609edc8b-79ad-4473-8a1c-69dabb0669d0 button');\n",
              "          quickchartButtonEl.style.display =\n",
              "            google.colab.kernel.accessAllowed ? 'block' : 'none';\n",
              "        })();\n",
              "      </script>\n",
              "    </div>\n",
              "\n",
              "    </div>\n",
              "  </div>\n"
            ],
            "application/vnd.google.colaboratory.intrinsic+json": {
              "type": "dataframe",
              "summary": "{\n  \"name\": \"df[geographic_columns]\",\n  \"rows\": 5,\n  \"fields\": [\n    {\n      \"column\": \"Customer City\",\n      \"properties\": {\n        \"dtype\": \"string\",\n        \"num_unique_values\": 3,\n        \"samples\": [\n          \"Caguas\",\n          \"San Jose\",\n          \"Los Angeles\"\n        ],\n        \"semantic_type\": \"\",\n        \"description\": \"\"\n      }\n    },\n    {\n      \"column\": \"Customer Country\",\n      \"properties\": {\n        \"dtype\": \"category\",\n        \"num_unique_values\": 2,\n        \"samples\": [\n          \"EE. UU.\",\n          \"Puerto Rico\"\n        ],\n        \"semantic_type\": \"\",\n        \"description\": \"\"\n      }\n    },\n    {\n      \"column\": \"Customer State\",\n      \"properties\": {\n        \"dtype\": \"category\",\n        \"num_unique_values\": 2,\n        \"samples\": [\n          \"CA\",\n          \"PR\"\n        ],\n        \"semantic_type\": \"\",\n        \"description\": \"\"\n      }\n    },\n    {\n      \"column\": \"Latitude\",\n      \"properties\": {\n        \"dtype\": \"number\",\n        \"std\": 9.621756460824471,\n        \"min\": 18.2514534,\n        \"max\": 37.29223251,\n        \"num_unique_values\": 5,\n        \"samples\": [\n          18.27945137,\n          18.25376892\n        ],\n        \"semantic_type\": \"\",\n        \"description\": \"\"\n      }\n    },\n    {\n      \"column\": \"Longitude\",\n      \"properties\": {\n        \"dtype\": \"number\",\n        \"std\": 29.63110748841167,\n        \"min\": -121.881279,\n        \"max\": -66.03704834,\n        \"num_unique_values\": 5,\n        \"samples\": [\n          -66.0370636,\n          -66.03704834\n        ],\n        \"semantic_type\": \"\",\n        \"description\": \"\"\n      }\n    },\n    {\n      \"column\": \"Order City\",\n      \"properties\": {\n        \"dtype\": \"string\",\n        \"num_unique_values\": 3,\n        \"samples\": [\n          \"Bekasi\",\n          \"Bikaner\"\n        ],\n        \"semantic_type\": \"\",\n        \"description\": \"\"\n      }\n    },\n    {\n      \"column\": \"Order Country\",\n      \"properties\": {\n        \"dtype\": \"string\",\n        \"num_unique_values\": 3,\n        \"samples\": [\n          \"Indonesia\",\n          \"India\"\n        ],\n        \"semantic_type\": \"\",\n        \"description\": \"\"\n      }\n    },\n    {\n      \"column\": \"Order Region\",\n      \"properties\": {\n        \"dtype\": \"string\",\n        \"num_unique_values\": 3,\n        \"samples\": [\n          \"Southeast Asia\",\n          \"South Asia\"\n        ],\n        \"semantic_type\": \"\",\n        \"description\": \"\"\n      }\n    },\n    {\n      \"column\": \"Order State\",\n      \"properties\": {\n        \"dtype\": \"string\",\n        \"num_unique_values\": 3,\n        \"samples\": [\n          \"Java Occidental\",\n          \"Rajast\\u00c3\\u00a1n\"\n        ],\n        \"semantic_type\": \"\",\n        \"description\": \"\"\n      }\n    }\n  ]\n}"
            }
          },
          "metadata": {},
          "execution_count": 5
        }
      ]
    },
    {
      "cell_type": "markdown",
      "source": [
        "<hr style=\"border: 1px solid red;\">"
      ],
      "metadata": {
        "id": "vGDKECPMVm0q"
      }
    },
    {
      "cell_type": "markdown",
      "source": [
        "## **4. Geographic Data Quality Assessment**\n",
        "***\n",
        "Before analysis, we check for missing values, inconsistencies, and data quality issues in our geographic fields.\n",
        "***\n",
        "<hr style=\"border: 1px solid red;\">"
      ],
      "metadata": {
        "id": "DMkfDZZiVsXm"
      }
    },
    {
      "cell_type": "code",
      "source": [
        "# Check for missing values in geographic columns\n",
        "print(\"Missing Values in Geographic Columns:\")\n",
        "for col in geographic_columns:\n",
        "    missing_count = df[col].isnull().sum()\n",
        "    missing_pct = (missing_count / len(df)) * 100\n",
        "    print(f\"{col}: {missing_count} ({missing_pct:.2f}%)\")\n",
        "\n",
        "# Look at unique values for key geographic fields\n",
        "print(f\"\\nTop Customer Countries: {df['Customer Country'].value_counts().head()}\")\n",
        "print(f\"\\nTop Customer States: {df['Customer State'].value_counts().head()}\")"
      ],
      "metadata": {
        "colab": {
          "base_uri": "https://localhost:8080/"
        },
        "id": "Q3W0JK1SVja4",
        "outputId": "ed0738d8-b219-43dd-8f04-389004d995a1"
      },
      "execution_count": 6,
      "outputs": [
        {
          "output_type": "stream",
          "name": "stdout",
          "text": [
            "Missing Values in Geographic Columns:\n",
            "Customer City: 0 (0.00%)\n",
            "Customer Country: 0 (0.00%)\n",
            "Customer State: 0 (0.00%)\n",
            "Latitude: 0 (0.00%)\n",
            "Longitude: 0 (0.00%)\n",
            "Order City: 0 (0.00%)\n",
            "Order Country: 0 (0.00%)\n",
            "Order Region: 0 (0.00%)\n",
            "Order State: 0 (0.00%)\n",
            "\n",
            "Top Customer Countries: Customer Country\n",
            "EE. UU.        111137\n",
            "Puerto Rico     69371\n",
            "Name: count, dtype: int64\n",
            "\n",
            "Top Customer States: Customer State\n",
            "PR    69371\n",
            "CA    29221\n",
            "NY    11327\n",
            "TX     9102\n",
            "IL     7630\n",
            "Name: count, dtype: int64\n"
          ]
        }
      ]
    },
    {
      "cell_type": "markdown",
      "source": [
        "<hr style=\"border: 1px solid red;\">\n"
      ],
      "metadata": {
        "id": "BAoqpvWyW_ZW"
      }
    },
    {
      "cell_type": "markdown",
      "source": [
        "## **5. Sales Performance by Country**\n",
        "***\n",
        "Analyze total sales, orders, and average order value across different countries to identify top-performing markets and expansion opportunities.\n",
        "***\n",
        "<hr style=\"border: 1px solid red;\">"
      ],
      "metadata": {
        "id": "zXSYZAKdW_iI"
      }
    },
    {
      "cell_type": "code",
      "source": [
        "# Aggregate sales data by country\n",
        "country_performance = df.groupby('Customer Country').agg({\n",
        "    'Sales': ['sum', 'mean'],\n",
        "    'Order Id': 'nunique',\n",
        "    'Benefit per order': 'sum',\n",
        "    'Customer Id': 'nunique'\n",
        "}).round(2)\n",
        "\n",
        "# Flatten column names\n",
        "country_performance.columns = ['Total_Sales', 'Avg_Order_Value', 'Total_Orders', 'Total_Benefit', 'Unique_Customers']\n",
        "country_performance = country_performance.reset_index().sort_values('Total_Sales', ascending=False)\n",
        "\n",
        "# Display top 10 countries\n",
        "print(\"Top 10 Countries by Sales Performance:\")\n",
        "print(country_performance.head(10))"
      ],
      "metadata": {
        "colab": {
          "base_uri": "https://localhost:8080/"
        },
        "id": "7s1xVij8V5iy",
        "outputId": "3c7837d8-d3a6-4b7e-8e56-da3fadb42500"
      },
      "execution_count": 7,
      "outputs": [
        {
          "output_type": "stream",
          "name": "stdout",
          "text": [
            "Top 10 Countries by Sales Performance:\n",
            "  Customer Country  Total_Sales  Avg_Order_Value  Total_Orders  Total_Benefit  \\\n",
            "0          EE. UU.  22631633.27           203.64         40431     2452826.85   \n",
            "1      Puerto Rico  14149668.85           203.97         25310     1513216.07   \n",
            "\n",
            "   Unique_Customers  \n",
            "0             12710  \n",
            "1              7931  \n"
          ]
        }
      ]
    },
    {
      "cell_type": "markdown",
      "source": [
        "<hr style=\"border: 1px solid red;\">"
      ],
      "metadata": {
        "id": "_zhnz6bjXdtn"
      }
    },
    {
      "cell_type": "markdown",
      "source": [
        "## **6: State-Level Analysis**\n",
        "***\n",
        "Bar chart to showcase the top 10 states by total sales.\n",
        "***\n",
        "<hr style=\"border: 1px solid red;\">"
      ],
      "metadata": {
        "id": "aMKsIHGPXO7d"
      }
    },
    {
      "cell_type": "code",
      "source": [
        "# State-level sales and order statistics\n",
        "state_performance = df.groupby('Customer State').agg({\n",
        "    'Sales': 'sum',\n",
        "    'Order Id': 'nunique',\n",
        "    'Benefit per order': 'sum',\n",
        "    'Customer Id': 'nunique'\n",
        "}).round(2)\n",
        "\n",
        "state_performance = state_performance.reset_index().rename(columns={\n",
        "    'Sales': 'Total_Sales',\n",
        "    'Order Id': 'Total_Orders',\n",
        "    'Benefit per order': 'Total_Benefit',\n",
        "    'Customer Id': 'Unique_Customers'\n",
        "}).sort_values('Total_Sales', ascending=False)\n",
        "\n",
        "# Display top 10 states\n",
        "print(\"Top 10 States by Sales Performance:\")\n",
        "print(state_performance.head(10))"
      ],
      "metadata": {
        "colab": {
          "base_uri": "https://localhost:8080/"
        },
        "id": "razoXFPJXLF2",
        "outputId": "b86c51e3-70e1-4f08-a6ea-9dc248861fc4"
      },
      "execution_count": 17,
      "outputs": [
        {
          "output_type": "stream",
          "name": "stdout",
          "text": [
            "Top 10 States by Sales Performance:\n",
            "   Customer State  Total_Sales  Total_Orders  Total_Benefit  Unique_Customers\n",
            "34             PR  14149668.85         25310     1513216.07              7931\n",
            "3              CA   5928356.71         10596      640654.59              3316\n",
            "29             NY   2301325.15          4104      239429.93              1278\n",
            "38             TX   1869493.22          3317      199370.29              1087\n",
            "13             IL   1561183.05          2733      179835.32               854\n",
            "8              FL   1110758.41          1963      136256.96               583\n",
            "30             OH    833180.86          1484       84621.71               465\n",
            "20             MI    782401.32          1376       81339.50               427\n",
            "33             PA    772199.01          1384       78245.07               426\n",
            "26             NJ    654152.54          1191       67470.03               381\n"
          ]
        }
      ]
    },
    {
      "cell_type": "markdown",
      "source": [
        "***"
      ],
      "metadata": {
        "id": "enJkuBhncVWk"
      }
    },
    {
      "cell_type": "code",
      "source": [
        "import matplotlib.pyplot as plt\n",
        "import seaborn as sns\n",
        "\n",
        "top_states = state_performance.head(10)\n",
        "plt.figure(figsize=(12,6))\n",
        "sns.barplot(data=top_states, y='Customer State', x='Total_Sales', palette='Blues_r')\n",
        "plt.title('Top 10 States by Total Sales', fontsize=16, weight='bold')\n",
        "plt.xlabel('Total Sales')\n",
        "plt.ylabel('State')\n",
        "plt.tight_layout()\n",
        "plt.show()"
      ],
      "metadata": {
        "colab": {
          "base_uri": "https://localhost:8080/",
          "height": 688
        },
        "id": "_-hAVcr5cVjr",
        "outputId": "8d5e3e83-08b8-45a4-ad5c-9583b571b5fb"
      },
      "execution_count": 18,
      "outputs": [
        {
          "output_type": "stream",
          "name": "stderr",
          "text": [
            "/tmp/ipython-input-3921962390.py:6: FutureWarning: \n",
            "\n",
            "Passing `palette` without assigning `hue` is deprecated and will be removed in v0.14.0. Assign the `y` variable to `hue` and set `legend=False` for the same effect.\n",
            "\n",
            "  sns.barplot(data=top_states, y='Customer State', x='Total_Sales', palette='Blues_r')\n"
          ]
        },
        {
          "output_type": "display_data",
          "data": {
            "text/plain": [
              "<Figure size 1200x600 with 1 Axes>"
            ],
            "image/png": "[encoded data removed]"
          },
          "metadata": {}
        }
      ]
    },
    {
      "cell_type": "markdown",
      "source": [
        "<hr/>\n",
        "<div class=\"alert alert-success alertsuccess\" style=\"margin-top: 20px\">\n",
        "  <ul>\n",
        "    <li><strong>Top State:</strong> <strong>PR (Puerto Rico)</strong> alone generated <strong>$14.15M</strong> in sales, far outpacing any individual U.S. state, confirming Puerto Rico as a concentrated, high-value market.</li>\n",
        "    <li>The largest U.S. states by sales are:\n",
        "      <ul>\n",
        "        <li><strong>CA (California):</strong> $5.93M sales, 10,596 orders, 3,316 customers</li>\n",
        "        <li><strong>NY (New York):</strong> $2.30M sales, 4,104 orders, 1,278 customers</li>\n",
        "        <li><strong>TX (Texas), IL (Illinois), FL (Florida)</strong> follow</li>\n",
        "      </ul>\n",
        "    </li>\n",
        "    <li><strong>Insight:</strong><br/>Puerto Rico alone is the sales powerhouse, but key states like CA, NY, TX, and IL also anchor national revenue. The distribution is heavily skewed: Puerto Rico is as vital as all top U.S. states combined.</li>\n",
        "  </ul>\n",
        "</div>\n",
        "<hr/>\n",
        "<hr style=\"border: 1px solid red;\">"
      ],
      "metadata": {
        "id": "1HgVO5RCYKPk"
      }
    },
    {
      "cell_type": "markdown",
      "source": [
        "## **7. City-Level Analysis**\n",
        "***\n",
        "Next, we drill down to city-level sales to identify key urban markets driving performance.\n",
        "***\n",
        "<hr style=\"border: 1px solid red;\">"
      ],
      "metadata": {
        "id": "Dqe8p9-rYKcX"
      }
    },
    {
      "cell_type": "code",
      "source": [
        "city_performance = df.groupby('Customer City').agg({\n",
        "    'Sales': 'sum',\n",
        "    'Order Id': 'nunique',\n",
        "    'Benefit per order': 'sum',\n",
        "    'Customer Id': 'nunique'\n",
        "}).round(2)\n",
        "\n",
        "city_performance = city_performance.reset_index().rename(columns={\n",
        "    'Sales': 'Total_Sales',\n",
        "    'Order Id': 'Total_Orders',\n",
        "    'Benefit per order': 'Total_Benefit',\n",
        "    'Customer Id': 'Unique_Customers'\n",
        "}).sort_values('Total_Sales', ascending=False)\n",
        "\n",
        "# Display top 10 cities\n",
        "print(\"Top 10 Cities by Sales Performance:\")\n",
        "print(city_performance.head(10))"
      ],
      "metadata": {
        "colab": {
          "base_uri": "https://localhost:8080/"
        },
        "id": "ONZfdVmpYCOc",
        "outputId": "9399bcf4-7ff0-46d4-9671-9513d967f4f4"
      },
      "execution_count": 19,
      "outputs": [
        {
          "output_type": "stream",
          "name": "stdout",
          "text": [
            "Top 10 Cities by Sales Performance:\n",
            "    Customer City  Total_Sales  Total_Orders  Total_Benefit  Unique_Customers\n",
            "65         Caguas  13609693.29         24363     1450346.27              7650\n",
            "87        Chicago    797614.21          1387       85725.92               435\n",
            "284   Los Angeles    697425.94          1247       80432.38               392\n",
            "59       Brooklyn    676419.78          1250       67231.87               375\n",
            "347      New York    361217.10           640       39302.14               194\n",
            "390  Philadelphia    315705.51           563       30163.09               164\n",
            "58          Bronx    308905.01           538       40944.77               173\n",
            "449     San Diego    293830.52           499       26133.64               154\n",
            "317         Miami    270368.20           474       35480.25               138\n",
            "225       Houston    267347.92           479       30684.53               148\n"
          ]
        }
      ]
    },
    {
      "cell_type": "markdown",
      "source": [
        "***"
      ],
      "metadata": {
        "id": "GoAF4MRBc4iL"
      }
    },
    {
      "cell_type": "code",
      "source": [
        "top_cities = city_performance.head(10)\n",
        "plt.figure(figsize=(12,6))\n",
        "sns.barplot(data=top_cities, y='Customer City', x='Total_Sales', palette='Greens_r')\n",
        "plt.title('Top 10 Cities by Total Sales', fontsize=16, weight='bold')\n",
        "plt.xlabel('Total Sales')\n",
        "plt.ylabel('City')\n",
        "plt.tight_layout()\n",
        "plt.show()"
      ],
      "metadata": {
        "colab": {
          "base_uri": "https://localhost:8080/",
          "height": 688
        },
        "id": "XMey7gOFYZPD",
        "outputId": "6941132b-6582-4590-a92f-f2ebdb4ccacd"
      },
      "execution_count": 20,
      "outputs": [
        {
          "output_type": "stream",
          "name": "stderr",
          "text": [
            "/tmp/ipython-input-1182337677.py:3: FutureWarning: \n",
            "\n",
            "Passing `palette` without assigning `hue` is deprecated and will be removed in v0.14.0. Assign the `y` variable to `hue` and set `legend=False` for the same effect.\n",
            "\n",
            "  sns.barplot(data=top_cities, y='Customer City', x='Total_Sales', palette='Greens_r')\n"
          ]
        },
        {
          "output_type": "display_data",
          "data": {
            "text/plain": [
              "<Figure size 1200x600 with 1 Axes>"
            ],
            "image/png": "[encoded data removed]"
          },
          "metadata": {}
        }
      ]
    },
    {
      "cell_type": "markdown",
      "source": [
        "<hr/>\n",
        "<div class=\"alert alert-success alertsuccess\" style=\"margin-top: 20px\">\n",
        "  <ul>\n",
        "    <li><strong>Top City:</strong> <strong>Caguas</strong> (Puerto Rico) is a true outlier with <strong>$13.6M</strong> in sales—more than 60% of Puerto Rico’s—and 24,363 orders from 7,650 customers.</li>\n",
        "    <li>Top U.S. cities include:\n",
        "      <ul>\n",
        "        <li><strong>Chicago:</strong> $797K sales, 1,387 orders</li>\n",
        "        <li><strong>Los Angeles:</strong> $697K sales, 1,247 orders</li>\n",
        "        <li><strong>Brooklyn, New York, Philadelphia, Bronx</strong> also appear as major urban contributors</li>\n",
        "      </ul>\n",
        "    </li>\n",
        "    <li><strong>Insight:</strong><br/>Caguas overwhelmingly dominates city sales, likely reflecting either a major distribution center, a key reseller, or a set of high-volume customers in that region. U.S. city sales are distributed among several major metros, indicating a broader but less concentrated market footprint.</li>\n",
        "  </ul>\n",
        "</div>\n",
        "<hr/>\n",
        "<hr style=\"border: 1px solid red;\">"
      ],
      "metadata": {
        "id": "Gbg3I3q5dFfb"
      }
    },
    {
      "cell_type": "markdown",
      "source": [
        "## **8. Geographic Delivery Performance**\n",
        "***\n",
        "Measure on-time delivery rates at the state level to reveal regional logistics strengths and weaknesses.\n",
        "***\n",
        "<hr style=\"border: 1px solid red;\">"
      ],
      "metadata": {
        "id": "QGFYSsPtdFnk"
      }
    },
    {
      "cell_type": "code",
      "source": [
        "df['OnTime'] = df['Delivery Status'].str.contains('on time', case=False, na=False)\n",
        "\n",
        "delivery_performance = (\n",
        "    df.groupby('Customer State')\n",
        "    .agg(OnTimeRate=('OnTime', 'mean'))\n",
        "    .reset_index()\n",
        ")\n",
        "delivery_performance['OnTimeRatePct'] = delivery_performance['OnTimeRate'] * 100\n",
        "\n",
        "top_delivery_states = delivery_performance.sort_values('OnTimeRatePct', ascending=False).head(10)\n",
        "\n",
        "plt.figure(figsize=(12, 6))\n",
        "sns.barplot(data=top_delivery_states, y='Customer State', x='OnTimeRatePct', palette='RdYlGn')\n",
        "plt.title('On-Time Delivery Rate by State (%)', fontsize=16, weight='bold')\n",
        "plt.xlabel('On-Time Delivery Rate (%)')\n",
        "plt.ylabel('State')\n",
        "plt.tight_layout()\n",
        "plt.show()"
      ],
      "metadata": {
        "colab": {
          "base_uri": "https://localhost:8080/",
          "height": 688
        },
        "id": "A1ijmixhdtQw",
        "outputId": "56f5d718-f6c2-4139-b6ef-31724b3aee7c"
      },
      "execution_count": 22,
      "outputs": [
        {
          "output_type": "stream",
          "name": "stderr",
          "text": [
            "/tmp/ipython-input-2295623565.py:13: FutureWarning: \n",
            "\n",
            "Passing `palette` without assigning `hue` is deprecated and will be removed in v0.14.0. Assign the `y` variable to `hue` and set `legend=False` for the same effect.\n",
            "\n",
            "  sns.barplot(data=top_delivery_states, y='Customer State', x='OnTimeRatePct', palette='RdYlGn')\n"
          ]
        },
        {
          "output_type": "display_data",
          "data": {
            "text/plain": [
              "<Figure size 1200x600 with 1 Axes>"
            ],
            "image/png": "[encoded data removed]"
          },
          "metadata": {}
        }
      ]
    },
    {
      "cell_type": "markdown",
      "source": [
        "\n",
        "<hr style=\"border: 1px solid red;\">"
      ],
      "metadata": {
        "id": "wcDsxf7-ddTQ"
      }
    }
  ]
}