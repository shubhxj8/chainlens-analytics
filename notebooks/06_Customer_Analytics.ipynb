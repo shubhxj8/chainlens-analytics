{
  "nbformat": 4,
  "nbformat_minor": 0,
  "metadata": {
    "colab": {
      "provenance": [],
      "authorship_tag": "ABX9TyNGq2Q5pBvfbAOtVpROcrVz"
    },
    "kernelspec": {
      "name": "python3",
      "display_name": "Python 3"
    },
    "language_info": {
      "name": "python"
    }
  },
  "cells": [
    {
      "cell_type": "markdown",
      "source": [
        "## **1. Import Required Libraries**\n",
        "\n",
        "<hr style=\"border: 1px solid red;\">"
      ],
      "metadata": {
        "id": "xHqXHiBNogXx"
      }
    },
    {
      "cell_type": "code",
      "source": [
        "import pandas as pd\n",
        "import numpy as np\n",
        "import matplotlib.pyplot as plt\n",
        "import seaborn as sns\n",
        "import warnings\n",
        "warnings.filterwarnings('ignore')\n",
        "\n",
        "# Set visualization styles\n",
        "sns.set_theme(style=\"whitegrid\")"
      ],
      "metadata": {
        "id": "18uIc3Zqoh6v"
      },
      "execution_count": 1,
      "outputs": []
    },
    {
      "cell_type": "markdown",
      "source": [
        "<hr style=\"border: 1px solid red;\">"
      ],
      "metadata": {
        "id": "kqH9XyexyDK5"
      }
    },
    {
      "cell_type": "markdown",
      "source": [
        "## **2. Mount Google Drive and Load Data**\n",
        "\n",
        "<hr style=\"border: 1px solid red;\">\n"
      ],
      "metadata": {
        "id": "TWl5oEIGoqL5"
      }
    },
    {
      "cell_type": "code",
      "source": [
        "from google.colab import drive\n",
        "drive.mount('/content/drive')"
      ],
      "metadata": {
        "colab": {
          "base_uri": "https://localhost:8080/"
        },
        "id": "pqV1bK-jopjx",
        "outputId": "8a89093b-fc79-464a-af5f-15c15aa83931"
      },
      "execution_count": 2,
      "outputs": [
        {
          "output_type": "stream",
          "name": "stdout",
          "text": [
            "Mounted at /content/drive\n"
          ]
        }
      ]
    },
    {
      "cell_type": "markdown",
      "source": [
        "***"
      ],
      "metadata": {
        "id": "Nqsz-vYHpCf-"
      }
    },
    {
      "cell_type": "code",
      "source": [
        "import os\n",
        "supply_chain_path = '/content/drive/My Drive/supply_chain'\n",
        "print(os.listdir(supply_chain_path))"
      ],
      "metadata": {
        "colab": {
          "base_uri": "https://localhost:8080/"
        },
        "id": "nIEZ-8TWoww5",
        "outputId": "8f481e97-a073-4431-d6a7-6f3fc13f9bf1"
      },
      "execution_count": 3,
      "outputs": [
        {
          "output_type": "stream",
          "name": "stdout",
          "text": [
            "['DescriptionDataCoSupplyChain.csv', 'tokenized_access_logs.csv', 'DataCoSupplyChainDataset.csv', 'supply_chain_data_cleaned.csv']\n"
          ]
        }
      ]
    },
    {
      "cell_type": "markdown",
      "source": [
        "***"
      ],
      "metadata": {
        "id": "OnKwgm7NpGWH"
      }
    },
    {
      "cell_type": "code",
      "source": [
        "df = pd.read_csv('/content/drive/My Drive/supply_chain/supply_chain_data_cleaned.csv', encoding='latin-1')"
      ],
      "metadata": {
        "id": "dvBQfDHLpFs3"
      },
      "execution_count": 4,
      "outputs": []
    },
    {
      "cell_type": "markdown",
      "source": [
        "<hr style=\"border: 1px solid red;\">"
      ],
      "metadata": {
        "id": "TKPfKe8YpNHA"
      }
    },
    {
      "cell_type": "markdown",
      "source": [
        "## **3. Customer Purchase Data Aggregation**\n",
        "***\n",
        "Aggregate orders and sales at the customer level to compute metrics needed for segmentation and behavior analysis.\n",
        "***\n",
        "<hr style=\"border: 1px solid red;\">"
      ],
      "metadata": {
        "id": "7GIzYoK_pOVY"
      }
    },
    {
      "cell_type": "code",
      "source": [
        "# Convert 'Last Purchase' column to datetime\n",
        "customer_summary['Last Purchase'] = pd.to_datetime(customer_summary['Last Purchase'], errors='coerce')\n",
        "\n",
        "# Now calculate Recency safely\n",
        "customer_summary['Recency'] = (current_date - customer_summary['Last Purchase']).dt.days\n",
        "\n",
        "# Aggregate customer purchase history\n",
        "customer_summary = df.groupby('Customer Id').agg({\n",
        "    'order date (DateOrders)': ['min', 'max'],\n",
        "    'Order Id': 'nunique',\n",
        "    'Sales': 'sum'\n",
        "})\n",
        "\n",
        "# Flatten columns\n",
        "customer_summary.columns = ['First Purchase', 'Last Purchase', 'Total Orders', 'Total Sales']\n",
        "\n",
        "# Calculate Recency, Frequency, Monetary values\n",
        "current_date = df['order date (DateOrders)'].max() + pd.Timedelta(days=1)\n",
        "customer_summary['Recency'] = (current_date - customer_summary['Last Purchase']).dt.days\n",
        "customer_summary['Frequency'] = customer_summary['Total Orders']\n",
        "customer_summary['Monetary'] = customer_summary['Total Sales']\n",
        "\n",
        "customer_summary = customer_summary.reset_index()\n",
        "customer_summary.head()"
      ],
      "metadata": {
        "colab": {
          "base_uri": "https://localhost:8080/",
          "height": 206
        },
        "id": "24bjYclxpJQ3",
        "outputId": "b76f8755-2609-45b4-b6d7-e6c0de1438e4"
      },
      "execution_count": 7,
      "outputs": [
        {
          "output_type": "execute_result",
          "data": {
            "text/plain": [
              "   Customer Id      First Purchase       Last Purchase  Total Orders  \\\n",
              "0            1 2015-12-01 22:18:00 2015-12-01 22:18:00             1   \n",
              "1            2 2015-08-10 18:05:00 2017-09-17 15:04:00             4   \n",
              "2            3 2015-12-12 09:30:00 2017-06-16 01:22:00             5   \n",
              "3            4 2015-05-12 16:48:00 2017-01-16 18:13:00             4   \n",
              "4            5 2016-06-16 09:24:00 2016-10-31 00:38:00             3   \n",
              "\n",
              "   Total Sales  Recency  Frequency     Monetary  \n",
              "0   499.950012      793          1   499.950012  \n",
              "1  1819.730034      137          4  1819.730034  \n",
              "2  3537.680094      230          5  3537.680094  \n",
              "3  1719.630030      381          4  1719.630030  \n",
              "4  1274.750023      458          3  1274.750023  "
            ],
            "text/html": [
              "\n",
              "  <div id=\"df-67736569-53be-4ef2-bf81-8823eded726d\" class=\"colab-df-container\">\n",
              "    <div>\n",
              "<style scoped>\n",
              "    .dataframe tbody tr th:only-of-type {\n",
              "        vertical-align: middle;\n",
              "    }\n",
              "\n",
              "    .dataframe tbody tr th {\n",
              "        vertical-align: top;\n",
              "    }\n",
              "\n",
              "    .dataframe thead th {\n",
              "        text-align: right;\n",
              "    }\n",
              "</style>\n",
              "<table border=\"1\" class=\"dataframe\">\n",
              "  <thead>\n",
              "    <tr style=\"text-align: right;\">\n",
              "      <th></th>\n",
              "      <th>Customer Id</th>\n",
              "      <th>First Purchase</th>\n",
              "      <th>Last Purchase</th>\n",
              "      <th>Total Orders</th>\n",
              "      <th>Total Sales</th>\n",
              "      <th>Recency</th>\n",
              "      <th>Frequency</th>\n",
              "      <th>Monetary</th>\n",
              "    </tr>\n",
              "  </thead>\n",
              "  <tbody>\n",
              "    <tr>\n",
              "      <th>0</th>\n",
              "      <td>1</td>\n",
              "      <td>2015-12-01 22:18:00</td>\n",
              "      <td>2015-12-01 22:18:00</td>\n",
              "      <td>1</td>\n",
              "      <td>499.950012</td>\n",
              "      <td>793</td>\n",
              "      <td>1</td>\n",
              "      <td>499.950012</td>\n",
              "    </tr>\n",
              "    <tr>\n",
              "      <th>1</th>\n",
              "      <td>2</td>\n",
              "      <td>2015-08-10 18:05:00</td>\n",
              "      <td>2017-09-17 15:04:00</td>\n",
              "      <td>4</td>\n",
              "      <td>1819.730034</td>\n",
              "      <td>137</td>\n",
              "      <td>4</td>\n",
              "      <td>1819.730034</td>\n",
              "    </tr>\n",
              "    <tr>\n",
              "      <th>2</th>\n",
              "      <td>3</td>\n",
              "      <td>2015-12-12 09:30:00</td>\n",
              "      <td>2017-06-16 01:22:00</td>\n",
              "      <td>5</td>\n",
              "      <td>3537.680094</td>\n",
              "      <td>230</td>\n",
              "      <td>5</td>\n",
              "      <td>3537.680094</td>\n",
              "    </tr>\n",
              "    <tr>\n",
              "      <th>3</th>\n",
              "      <td>4</td>\n",
              "      <td>2015-05-12 16:48:00</td>\n",
              "      <td>2017-01-16 18:13:00</td>\n",
              "      <td>4</td>\n",
              "      <td>1719.630030</td>\n",
              "      <td>381</td>\n",
              "      <td>4</td>\n",
              "      <td>1719.630030</td>\n",
              "    </tr>\n",
              "    <tr>\n",
              "      <th>4</th>\n",
              "      <td>5</td>\n",
              "      <td>2016-06-16 09:24:00</td>\n",
              "      <td>2016-10-31 00:38:00</td>\n",
              "      <td>3</td>\n",
              "      <td>1274.750023</td>\n",
              "      <td>458</td>\n",
              "      <td>3</td>\n",
              "      <td>1274.750023</td>\n",
              "    </tr>\n",
              "  </tbody>\n",
              "</table>\n",
              "</div>\n",
              "    <div class=\"colab-df-buttons\">\n",
              "\n",
              "  <div class=\"colab-df-container\">\n",
              "    <button class=\"colab-df-convert\" onclick=\"convertToInteractive('df-67736569-53be-4ef2-bf81-8823eded726d')\"\n",
              "            title=\"Convert this dataframe to an interactive table.\"\n",
              "            style=\"display:none;\">\n",
              "\n",
              "  <svg xmlns=\"http://www.w3.org/2000/svg\" height=\"24px\" viewBox=\"0 -960 960 960\">\n",
              "    <path d=\"M120-120v-720h720v720H120Zm60-500h600v-160H180v160Zm220 220h160v-160H400v160Zm0 220h160v-160H400v160ZM180-400h160v-160H180v160Zm440 0h160v-160H620v160ZM180-180h160v-160H180v160Zm440 0h160v-160H620v160Z\"/>\n",
              "  </svg>\n",
              "    </button>\n",
              "\n",
              "  <style>\n",
              "    .colab-df-container {\n",
              "      display:flex;\n",
              "      gap: 12px;\n",
              "    }\n",
              "\n",
              "    .colab-df-convert {\n",
              "      background-color: #E8F0FE;\n",
              "      border: none;\n",
              "      border-radius: 50%;\n",
              "      cursor: pointer;\n",
              "      display: none;\n",
              "      fill: #1967D2;\n",
              "      height: 32px;\n",
              "      padding: 0 0 0 0;\n",
              "      width: 32px;\n",
              "    }\n",
              "\n",
              "    .colab-df-convert:hover {\n",
              "      background-color: #E2EBFA;\n",
              "      box-shadow: 0px 1px 2px rgba(60, 64, 67, 0.3), 0px 1px 3px 1px rgba(60, 64, 67, 0.15);\n",
              "      fill: #174EA6;\n",
              "    }\n",
              "\n",
              "    .colab-df-buttons div {\n",
              "      margin-bottom: 4px;\n",
              "    }\n",
              "\n",
              "    [theme=dark] .colab-df-convert {\n",
              "      background-color: #3B4455;\n",
              "      fill: #D2E3FC;\n",
              "    }\n",
              "\n",
              "    [theme=dark] .colab-df-convert:hover {\n",
              "      background-color: #434B5C;\n",
              "      box-shadow: 0px 1px 3px 1px rgba(0, 0, 0, 0.15);\n",
              "      filter: drop-shadow(0px 1px 2px rgba(0, 0, 0, 0.3));\n",
              "      fill: #FFFFFF;\n",
              "    }\n",
              "  </style>\n",
              "\n",
              "    <script>\n",
              "      const buttonEl =\n",
              "        document.querySelector('#df-67736569-53be-4ef2-bf81-8823eded726d button.colab-df-convert');\n",
              "      buttonEl.style.display =\n",
              "        google.colab.kernel.accessAllowed ? 'block' : 'none';\n",
              "\n",
              "      async function convertToInteractive(key) {\n",
              "        const element = document.querySelector('#df-67736569-53be-4ef2-bf81-8823eded726d');\n",
              "        const dataTable =\n",
              "          await google.colab.kernel.invokeFunction('convertToInteractive',\n",
              "                                                    [key], {});\n",
              "        if (!dataTable) return;\n",
              "\n",
              "        const docLinkHtml = 'Like what you see? Visit the ' +\n",
              "          '<a target=\"_blank\" href=https://colab.research.google.com/notebooks/data_table.ipynb>data table notebook</a>'\n",
              "          + ' to learn more about interactive tables.';\n",
              "        element.innerHTML = '';\n",
              "        dataTable['output_type'] = 'display_data';\n",
              "        await google.colab.output.renderOutput(dataTable, element);\n",
              "        const docLink = document.createElement('div');\n",
              "        docLink.innerHTML = docLinkHtml;\n",
              "        element.appendChild(docLink);\n",
              "      }\n",
              "    </script>\n",
              "  </div>\n",
              "\n",
              "\n",
              "    <div id=\"df-73abfc82-a137-4fc6-929d-323814368c33\">\n",
              "      <button class=\"colab-df-quickchart\" onclick=\"quickchart('df-73abfc82-a137-4fc6-929d-323814368c33')\"\n",
              "                title=\"Suggest charts\"\n",
              "                style=\"display:none;\">\n",
              "\n",
              "<svg xmlns=\"http://www.w3.org/2000/svg\" height=\"24px\"viewBox=\"0 0 24 24\"\n",
              "     width=\"24px\">\n",
              "    <g>\n",
              "        <path d=\"M19 3H5c-1.1 0-2 .9-2 2v14c0 1.1.9 2 2 2h14c1.1 0 2-.9 2-2V5c0-1.1-.9-2-2-2zM9 17H7v-7h2v7zm4 0h-2V7h2v10zm4 0h-2v-4h2v4z\"/>\n",
              "    </g>\n",
              "</svg>\n",
              "      </button>\n",
              "\n",
              "<style>\n",
              "  .colab-df-quickchart {\n",
              "      --bg-color: #E8F0FE;\n",
              "      --fill-color: #1967D2;\n",
              "      --hover-bg-color: #E2EBFA;\n",
              "      --hover-fill-color: #174EA6;\n",
              "      --disabled-fill-color: #AAA;\n",
              "      --disabled-bg-color: #DDD;\n",
              "  }\n",
              "\n",
              "  [theme=dark] .colab-df-quickchart {\n",
              "      --bg-color: #3B4455;\n",
              "      --fill-color: #D2E3FC;\n",
              "      --hover-bg-color: #434B5C;\n",
              "      --hover-fill-color: #FFFFFF;\n",
              "      --disabled-bg-color: #3B4455;\n",
              "      --disabled-fill-color: #666;\n",
              "  }\n",
              "\n",
              "  .colab-df-quickchart {\n",
              "    background-color: var(--bg-color);\n",
              "    border: none;\n",
              "    border-radius: 50%;\n",
              "    cursor: pointer;\n",
              "    display: none;\n",
              "    fill: var(--fill-color);\n",
              "    height: 32px;\n",
              "    padding: 0;\n",
              "    width: 32px;\n",
              "  }\n",
              "\n",
              "  .colab-df-quickchart:hover {\n",
              "    background-color: var(--hover-bg-color);\n",
              "    box-shadow: 0 1px 2px rgba(60, 64, 67, 0.3), 0 1px 3px 1px rgba(60, 64, 67, 0.15);\n",
              "    fill: var(--button-hover-fill-color);\n",
              "  }\n",
              "\n",
              "  .colab-df-quickchart-complete:disabled,\n",
              "  .colab-df-quickchart-complete:disabled:hover {\n",
              "    background-color: var(--disabled-bg-color);\n",
              "    fill: var(--disabled-fill-color);\n",
              "    box-shadow: none;\n",
              "  }\n",
              "\n",
              "  .colab-df-spinner {\n",
              "    border: 2px solid var(--fill-color);\n",
              "    border-color: transparent;\n",
              "    border-bottom-color: var(--fill-color);\n",
              "    animation:\n",
              "      spin 1s steps(1) infinite;\n",
              "  }\n",
              "\n",
              "  @keyframes spin {\n",
              "    0% {\n",
              "      border-color: transparent;\n",
              "      border-bottom-color: var(--fill-color);\n",
              "      border-left-color: var(--fill-color);\n",
              "    }\n",
              "    20% {\n",
              "      border-color: transparent;\n",
              "      border-left-color: var(--fill-color);\n",
              "      border-top-color: var(--fill-color);\n",
              "    }\n",
              "    30% {\n",
              "      border-color: transparent;\n",
              "      border-left-color: var(--fill-color);\n",
              "      border-top-color: var(--fill-color);\n",
              "      border-right-color: var(--fill-color);\n",
              "    }\n",
              "    40% {\n",
              "      border-color: transparent;\n",
              "      border-right-color: var(--fill-color);\n",
              "      border-top-color: var(--fill-color);\n",
              "    }\n",
              "    60% {\n",
              "      border-color: transparent;\n",
              "      border-right-color: var(--fill-color);\n",
              "    }\n",
              "    80% {\n",
              "      border-color: transparent;\n",
              "      border-right-color: var(--fill-color);\n",
              "      border-bottom-color: var(--fill-color);\n",
              "    }\n",
              "    90% {\n",
              "      border-color: transparent;\n",
              "      border-bottom-color: var(--fill-color);\n",
              "    }\n",
              "  }\n",
              "</style>\n",
              "\n",
              "      <script>\n",
              "        async function quickchart(key) {\n",
              "          const quickchartButtonEl =\n",
              "            document.querySelector('#' + key + ' button');\n",
              "          quickchartButtonEl.disabled = true;  // To prevent multiple clicks.\n",
              "          quickchartButtonEl.classList.add('colab-df-spinner');\n",
              "          try {\n",
              "            const charts = await google.colab.kernel.invokeFunction(\n",
              "                'suggestCharts', [key], {});\n",
              "          } catch (error) {\n",
              "            console.error('Error during call to suggestCharts:', error);\n",
              "          }\n",
              "          quickchartButtonEl.classList.remove('colab-df-spinner');\n",
              "          quickchartButtonEl.classList.add('colab-df-quickchart-complete');\n",
              "        }\n",
              "        (() => {\n",
              "          let quickchartButtonEl =\n",
              "            document.querySelector('#df-73abfc82-a137-4fc6-929d-323814368c33 button');\n",
              "          quickchartButtonEl.style.display =\n",
              "            google.colab.kernel.accessAllowed ? 'block' : 'none';\n",
              "        })();\n",
              "      </script>\n",
              "    </div>\n",
              "\n",
              "    </div>\n",
              "  </div>\n"
            ],
            "application/vnd.google.colaboratory.intrinsic+json": {
              "type": "dataframe",
              "variable_name": "customer_summary",
              "summary": "{\n  \"name\": \"customer_summary\",\n  \"rows\": 20641,\n  \"fields\": [\n    {\n      \"column\": \"Customer Id\",\n      \"properties\": {\n        \"dtype\": \"number\",\n        \"std\": 5992,\n        \"min\": 1,\n        \"max\": 20757,\n        \"num_unique_values\": 20641,\n        \"samples\": [\n          8508,\n          9754,\n          2614\n        ],\n        \"semantic_type\": \"\",\n        \"description\": \"\"\n      }\n    },\n    {\n      \"column\": \"First Purchase\",\n      \"properties\": {\n        \"dtype\": \"date\",\n        \"min\": \"2015-01-01 00:00:00\",\n        \"max\": \"2018-01-31 23:38:00\",\n        \"num_unique_values\": 20641,\n        \"samples\": [\n          \"2015-02-22 18:29:00\",\n          \"2015-04-20 23:50:00\",\n          \"2015-09-12 11:12:00\"\n        ],\n        \"semantic_type\": \"\",\n        \"description\": \"\"\n      }\n    },\n    {\n      \"column\": \"Last Purchase\",\n      \"properties\": {\n        \"dtype\": \"date\",\n        \"min\": \"2015-01-02 15:56:00\",\n        \"max\": \"2018-01-31 23:38:00\",\n        \"num_unique_values\": 20641,\n        \"samples\": [\n          \"2017-05-06 20:52:00\",\n          \"2017-07-09 12:22:00\",\n          \"2015-09-12 11:12:00\"\n        ],\n        \"semantic_type\": \"\",\n        \"description\": \"\"\n      }\n    },\n    {\n      \"column\": \"Total Orders\",\n      \"properties\": {\n        \"dtype\": \"number\",\n        \"std\": 2,\n        \"min\": 1,\n        \"max\": 15,\n        \"num_unique_values\": 15,\n        \"samples\": [\n          13,\n          11,\n          1\n        ],\n        \"semantic_type\": \"\",\n        \"description\": \"\"\n      }\n    },\n    {\n      \"column\": \"Total Sales\",\n      \"properties\": {\n        \"dtype\": \"number\",\n        \"std\": 1677.4294912680505,\n        \"min\": 11.28999996,\n        \"max\": 10524.1701776,\n        \"num_unique_values\": 12092,\n        \"samples\": [\n          2195.72004328,\n          1849.7000350600001,\n          1309.8600311\n        ],\n        \"semantic_type\": \"\",\n        \"description\": \"\"\n      }\n    },\n    {\n      \"column\": \"Recency\",\n      \"properties\": {\n        \"dtype\": \"number\",\n        \"std\": 199,\n        \"min\": 1,\n        \"max\": 1126,\n        \"num_unique_values\": 1012,\n        \"samples\": [\n          631,\n          496,\n          49\n        ],\n        \"semantic_type\": \"\",\n        \"description\": \"\"\n      }\n    },\n    {\n      \"column\": \"Frequency\",\n      \"properties\": {\n        \"dtype\": \"number\",\n        \"std\": 2,\n        \"min\": 1,\n        \"max\": 15,\n        \"num_unique_values\": 15,\n        \"samples\": [\n          13,\n          11,\n          1\n        ],\n        \"semantic_type\": \"\",\n        \"description\": \"\"\n      }\n    },\n    {\n      \"column\": \"Monetary\",\n      \"properties\": {\n        \"dtype\": \"number\",\n        \"std\": 1677.4294912680505,\n        \"min\": 11.28999996,\n        \"max\": 10524.1701776,\n        \"num_unique_values\": 12092,\n        \"samples\": [\n          2195.72004328,\n          1849.7000350600001,\n          1309.8600311\n        ],\n        \"semantic_type\": \"\",\n        \"description\": \"\"\n      }\n    }\n  ]\n}"
            }
          },
          "metadata": {},
          "execution_count": 7
        }
      ]
    },
    {
      "cell_type": "markdown",
      "source": [
        "<hr style=\"border: 1px solid red;\">"
      ],
      "metadata": {
        "id": "WuR2qPL4qFIx"
      }
    },
    {
      "cell_type": "markdown",
      "source": [
        "## **4. RFM Scoring and Customer Segmentation**\n",
        "***\n",
        "Assign scores for Recency, Frequency, and Monetary value by binning each into quartiles. Combine scores to form overall customer segments.\n",
        "***\n",
        "<hr style=\"border: 1px solid red;\">"
      ],
      "metadata": {
        "id": "Vbh6ZBxUqFSv"
      }
    },
    {
      "cell_type": "code",
      "source": [
        "# Define RFM quartile scoring functions\n",
        "def r_score(x, r_quartiles):\n",
        "    if x <= r_quartiles[0.25]:\n",
        "        return 4\n",
        "    elif x <= r_quartiles[0.50]:\n",
        "        return 3\n",
        "    elif x <= r_quartiles[0.75]:\n",
        "        return 2\n",
        "    else:\n",
        "        return 1\n",
        "\n",
        "def fm_score(x, fm_quartiles):\n",
        "    if x <= fm_quartiles[0.25]:\n",
        "        return 1\n",
        "    elif x <= fm_quartiles[0.50]:\n",
        "        return 2\n",
        "    elif x <= fm_quartiles[0.75]:\n",
        "        return 3\n",
        "    else:\n",
        "        return 4\n",
        "\n",
        "# Calculate quartiles\n",
        "r_quartiles = customer_summary['Recency'].quantile([0.25, 0.5, 0.75]).to_dict()\n",
        "f_quartiles = customer_summary['Frequency'].quantile([0.25, 0.5, 0.75]).to_dict()\n",
        "m_quartiles = customer_summary['Monetary'].quantile([0.25, 0.5, 0.75]).to_dict()\n",
        "\n",
        "# Assign scores\n",
        "customer_summary['R_Score'] = customer_summary['Recency'].apply(r_score, r_quartiles=r_quartiles)\n",
        "customer_summary['F_Score'] = customer_summary['Frequency'].apply(fm_score, fm_quartiles=f_quartiles)\n",
        "customer_summary['M_Score'] = customer_summary['Monetary'].apply(fm_score, fm_quartiles=m_quartiles)\n",
        "\n",
        "# Combine scores\n",
        "customer_summary['RFM_Score'] = customer_summary['R_Score'].map(str) + \\\n",
        "                                customer_summary['F_Score'].map(str) + \\\n",
        "                                customer_summary['M_Score'].map(str)\n",
        "\n",
        "# Display sample segments\n",
        "customer_summary.head()"
      ],
      "metadata": {
        "colab": {
          "base_uri": "https://localhost:8080/",
          "height": 206
        },
        "id": "NpNvyjsypcUQ",
        "outputId": "6292cb77-b907-4874-f02e-df8acb432793"
      },
      "execution_count": 8,
      "outputs": [
        {
          "output_type": "execute_result",
          "data": {
            "text/plain": [
              "   Customer Id      First Purchase       Last Purchase  Total Orders  \\\n",
              "0            1 2015-12-01 22:18:00 2015-12-01 22:18:00             1   \n",
              "1            2 2015-08-10 18:05:00 2017-09-17 15:04:00             4   \n",
              "2            3 2015-12-12 09:30:00 2017-06-16 01:22:00             5   \n",
              "3            4 2015-05-12 16:48:00 2017-01-16 18:13:00             4   \n",
              "4            5 2016-06-16 09:24:00 2016-10-31 00:38:00             3   \n",
              "\n",
              "   Total Sales  Recency  Frequency     Monetary  R_Score  F_Score  M_Score  \\\n",
              "0   499.950012      793          1   499.950012        1        1        2   \n",
              "1  1819.730034      137          4  1819.730034        3        3        3   \n",
              "2  3537.680094      230          5  3537.680094        2        3        4   \n",
              "3  1719.630030      381          4  1719.630030        1        3        3   \n",
              "4  1274.750023      458          3  1274.750023        1        2        2   \n",
              "\n",
              "  RFM_Score  \n",
              "0       112  \n",
              "1       333  \n",
              "2       234  \n",
              "3       133  \n",
              "4       122  "
            ],
            "text/html": [
              "\n",
              "  <div id=\"df-4c4d03a8-0e75-41d4-9973-41f863147aa8\" class=\"colab-df-container\">\n",
              "    <div>\n",
              "<style scoped>\n",
              "    .dataframe tbody tr th:only-of-type {\n",
              "        vertical-align: middle;\n",
              "    }\n",
              "\n",
              "    .dataframe tbody tr th {\n",
              "        vertical-align: top;\n",
              "    }\n",
              "\n",
              "    .dataframe thead th {\n",
              "        text-align: right;\n",
              "    }\n",
              "</style>\n",
              "<table border=\"1\" class=\"dataframe\">\n",
              "  <thead>\n",
              "    <tr style=\"text-align: right;\">\n",
              "      <th></th>\n",
              "      <th>Customer Id</th>\n",
              "      <th>First Purchase</th>\n",
              "      <th>Last Purchase</th>\n",
              "      <th>Total Orders</th>\n",
              "      <th>Total Sales</th>\n",
              "      <th>Recency</th>\n",
              "      <th>Frequency</th>\n",
              "      <th>Monetary</th>\n",
              "      <th>R_Score</th>\n",
              "      <th>F_Score</th>\n",
              "      <th>M_Score</th>\n",
              "      <th>RFM_Score</th>\n",
              "    </tr>\n",
              "  </thead>\n",
              "  <tbody>\n",
              "    <tr>\n",
              "      <th>0</th>\n",
              "      <td>1</td>\n",
              "      <td>2015-12-01 22:18:00</td>\n",
              "      <td>2015-12-01 22:18:00</td>\n",
              "      <td>1</td>\n",
              "      <td>499.950012</td>\n",
              "      <td>793</td>\n",
              "      <td>1</td>\n",
              "      <td>499.950012</td>\n",
              "      <td>1</td>\n",
              "      <td>1</td>\n",
              "      <td>2</td>\n",
              "      <td>112</td>\n",
              "    </tr>\n",
              "    <tr>\n",
              "      <th>1</th>\n",
              "      <td>2</td>\n",
              "      <td>2015-08-10 18:05:00</td>\n",
              "      <td>2017-09-17 15:04:00</td>\n",
              "      <td>4</td>\n",
              "      <td>1819.730034</td>\n",
              "      <td>137</td>\n",
              "      <td>4</td>\n",
              "      <td>1819.730034</td>\n",
              "      <td>3</td>\n",
              "      <td>3</td>\n",
              "      <td>3</td>\n",
              "      <td>333</td>\n",
              "    </tr>\n",
              "    <tr>\n",
              "      <th>2</th>\n",
              "      <td>3</td>\n",
              "      <td>2015-12-12 09:30:00</td>\n",
              "      <td>2017-06-16 01:22:00</td>\n",
              "      <td>5</td>\n",
              "      <td>3537.680094</td>\n",
              "      <td>230</td>\n",
              "      <td>5</td>\n",
              "      <td>3537.680094</td>\n",
              "      <td>2</td>\n",
              "      <td>3</td>\n",
              "      <td>4</td>\n",
              "      <td>234</td>\n",
              "    </tr>\n",
              "    <tr>\n",
              "      <th>3</th>\n",
              "      <td>4</td>\n",
              "      <td>2015-05-12 16:48:00</td>\n",
              "      <td>2017-01-16 18:13:00</td>\n",
              "      <td>4</td>\n",
              "      <td>1719.630030</td>\n",
              "      <td>381</td>\n",
              "      <td>4</td>\n",
              "      <td>1719.630030</td>\n",
              "      <td>1</td>\n",
              "      <td>3</td>\n",
              "      <td>3</td>\n",
              "      <td>133</td>\n",
              "    </tr>\n",
              "    <tr>\n",
              "      <th>4</th>\n",
              "      <td>5</td>\n",
              "      <td>2016-06-16 09:24:00</td>\n",
              "      <td>2016-10-31 00:38:00</td>\n",
              "      <td>3</td>\n",
              "      <td>1274.750023</td>\n",
              "      <td>458</td>\n",
              "      <td>3</td>\n",
              "      <td>1274.750023</td>\n",
              "      <td>1</td>\n",
              "      <td>2</td>\n",
              "      <td>2</td>\n",
              "      <td>122</td>\n",
              "    </tr>\n",
              "  </tbody>\n",
              "</table>\n",
              "</div>\n",
              "    <div class=\"colab-df-buttons\">\n",
              "\n",
              "  <div class=\"colab-df-container\">\n",
              "    <button class=\"colab-df-convert\" onclick=\"convertToInteractive('df-4c4d03a8-0e75-41d4-9973-41f863147aa8')\"\n",
              "            title=\"Convert this dataframe to an interactive table.\"\n",
              "            style=\"display:none;\">\n",
              "\n",
              "  <svg xmlns=\"http://www.w3.org/2000/svg\" height=\"24px\" viewBox=\"0 -960 960 960\">\n",
              "    <path d=\"M120-120v-720h720v720H120Zm60-500h600v-160H180v160Zm220 220h160v-160H400v160Zm0 220h160v-160H400v160ZM180-400h160v-160H180v160Zm440 0h160v-160H620v160ZM180-180h160v-160H180v160Zm440 0h160v-160H620v160Z\"/>\n",
              "  </svg>\n",
              "    </button>\n",
              "\n",
              "  <style>\n",
              "    .colab-df-container {\n",
              "      display:flex;\n",
              "      gap: 12px;\n",
              "    }\n",
              "\n",
              "    .colab-df-convert {\n",
              "      background-color: #E8F0FE;\n",
              "      border: none;\n",
              "      border-radius: 50%;\n",
              "      cursor: pointer;\n",
              "      display: none;\n",
              "      fill: #1967D2;\n",
              "      height: 32px;\n",
              "      padding: 0 0 0 0;\n",
              "      width: 32px;\n",
              "    }\n",
              "\n",
              "    .colab-df-convert:hover {\n",
              "      background-color: #E2EBFA;\n",
              "      box-shadow: 0px 1px 2px rgba(60, 64, 67, 0.3), 0px 1px 3px 1px rgba(60, 64, 67, 0.15);\n",
              "      fill: #174EA6;\n",
              "    }\n",
              "\n",
              "    .colab-df-buttons div {\n",
              "      margin-bottom: 4px;\n",
              "    }\n",
              "\n",
              "    [theme=dark] .colab-df-convert {\n",
              "      background-color: #3B4455;\n",
              "      fill: #D2E3FC;\n",
              "    }\n",
              "\n",
              "    [theme=dark] .colab-df-convert:hover {\n",
              "      background-color: #434B5C;\n",
              "      box-shadow: 0px 1px 3px 1px rgba(0, 0, 0, 0.15);\n",
              "      filter: drop-shadow(0px 1px 2px rgba(0, 0, 0, 0.3));\n",
              "      fill: #FFFFFF;\n",
              "    }\n",
              "  </style>\n",
              "\n",
              "    <script>\n",
              "      const buttonEl =\n",
              "        document.querySelector('#df-4c4d03a8-0e75-41d4-9973-41f863147aa8 button.colab-df-convert');\n",
              "      buttonEl.style.display =\n",
              "        google.colab.kernel.accessAllowed ? 'block' : 'none';\n",
              "\n",
              "      async function convertToInteractive(key) {\n",
              "        const element = document.querySelector('#df-4c4d03a8-0e75-41d4-9973-41f863147aa8');\n",
              "        const dataTable =\n",
              "          await google.colab.kernel.invokeFunction('convertToInteractive',\n",
              "                                                    [key], {});\n",
              "        if (!dataTable) return;\n",
              "\n",
              "        const docLinkHtml = 'Like what you see? Visit the ' +\n",
              "          '<a target=\"_blank\" href=https://colab.research.google.com/notebooks/data_table.ipynb>data table notebook</a>'\n",
              "          + ' to learn more about interactive tables.';\n",
              "        element.innerHTML = '';\n",
              "        dataTable['output_type'] = 'display_data';\n",
              "        await google.colab.output.renderOutput(dataTable, element);\n",
              "        const docLink = document.createElement('div');\n",
              "        docLink.innerHTML = docLinkHtml;\n",
              "        element.appendChild(docLink);\n",
              "      }\n",
              "    </script>\n",
              "  </div>\n",
              "\n",
              "\n",
              "    <div id=\"df-af8d0607-d15d-45d8-a7ed-63bad02790da\">\n",
              "      <button class=\"colab-df-quickchart\" onclick=\"quickchart('df-af8d0607-d15d-45d8-a7ed-63bad02790da')\"\n",
              "                title=\"Suggest charts\"\n",
              "                style=\"display:none;\">\n",
              "\n",
              "<svg xmlns=\"http://www.w3.org/2000/svg\" height=\"24px\"viewBox=\"0 0 24 24\"\n",
              "     width=\"24px\">\n",
              "    <g>\n",
              "        <path d=\"M19 3H5c-1.1 0-2 .9-2 2v14c0 1.1.9 2 2 2h14c1.1 0 2-.9 2-2V5c0-1.1-.9-2-2-2zM9 17H7v-7h2v7zm4 0h-2V7h2v10zm4 0h-2v-4h2v4z\"/>\n",
              "    </g>\n",
              "</svg>\n",
              "      </button>\n",
              "\n",
              "<style>\n",
              "  .colab-df-quickchart {\n",
              "      --bg-color: #E8F0FE;\n",
              "      --fill-color: #1967D2;\n",
              "      --hover-bg-color: #E2EBFA;\n",
              "      --hover-fill-color: #174EA6;\n",
              "      --disabled-fill-color: #AAA;\n",
              "      --disabled-bg-color: #DDD;\n",
              "  }\n",
              "\n",
              "  [theme=dark] .colab-df-quickchart {\n",
              "      --bg-color: #3B4455;\n",
              "      --fill-color: #D2E3FC;\n",
              "      --hover-bg-color: #434B5C;\n",
              "      --hover-fill-color: #FFFFFF;\n",
              "      --disabled-bg-color: #3B4455;\n",
              "      --disabled-fill-color: #666;\n",
              "  }\n",
              "\n",
              "  .colab-df-quickchart {\n",
              "    background-color: var(--bg-color);\n",
              "    border: none;\n",
              "    border-radius: 50%;\n",
              "    cursor: pointer;\n",
              "    display: none;\n",
              "    fill: var(--fill-color);\n",
              "    height: 32px;\n",
              "    padding: 0;\n",
              "    width: 32px;\n",
              "  }\n",
              "\n",
              "  .colab-df-quickchart:hover {\n",
              "    background-color: var(--hover-bg-color);\n",
              "    box-shadow: 0 1px 2px rgba(60, 64, 67, 0.3), 0 1px 3px 1px rgba(60, 64, 67, 0.15);\n",
              "    fill: var(--button-hover-fill-color);\n",
              "  }\n",
              "\n",
              "  .colab-df-quickchart-complete:disabled,\n",
              "  .colab-df-quickchart-complete:disabled:hover {\n",
              "    background-color: var(--disabled-bg-color);\n",
              "    fill: var(--disabled-fill-color);\n",
              "    box-shadow: none;\n",
              "  }\n",
              "\n",
              "  .colab-df-spinner {\n",
              "    border: 2px solid var(--fill-color);\n",
              "    border-color: transparent;\n",
              "    border-bottom-color: var(--fill-color);\n",
              "    animation:\n",
              "      spin 1s steps(1) infinite;\n",
              "  }\n",
              "\n",
              "  @keyframes spin {\n",
              "    0% {\n",
              "      border-color: transparent;\n",
              "      border-bottom-color: var(--fill-color);\n",
              "      border-left-color: var(--fill-color);\n",
              "    }\n",
              "    20% {\n",
              "      border-color: transparent;\n",
              "      border-left-color: var(--fill-color);\n",
              "      border-top-color: var(--fill-color);\n",
              "    }\n",
              "    30% {\n",
              "      border-color: transparent;\n",
              "      border-left-color: var(--fill-color);\n",
              "      border-top-color: var(--fill-color);\n",
              "      border-right-color: var(--fill-color);\n",
              "    }\n",
              "    40% {\n",
              "      border-color: transparent;\n",
              "      border-right-color: var(--fill-color);\n",
              "      border-top-color: var(--fill-color);\n",
              "    }\n",
              "    60% {\n",
              "      border-color: transparent;\n",
              "      border-right-color: var(--fill-color);\n",
              "    }\n",
              "    80% {\n",
              "      border-color: transparent;\n",
              "      border-right-color: var(--fill-color);\n",
              "      border-bottom-color: var(--fill-color);\n",
              "    }\n",
              "    90% {\n",
              "      border-color: transparent;\n",
              "      border-bottom-color: var(--fill-color);\n",
              "    }\n",
              "  }\n",
              "</style>\n",
              "\n",
              "      <script>\n",
              "        async function quickchart(key) {\n",
              "          const quickchartButtonEl =\n",
              "            document.querySelector('#' + key + ' button');\n",
              "          quickchartButtonEl.disabled = true;  // To prevent multiple clicks.\n",
              "          quickchartButtonEl.classList.add('colab-df-spinner');\n",
              "          try {\n",
              "            const charts = await google.colab.kernel.invokeFunction(\n",
              "                'suggestCharts', [key], {});\n",
              "          } catch (error) {\n",
              "            console.error('Error during call to suggestCharts:', error);\n",
              "          }\n",
              "          quickchartButtonEl.classList.remove('colab-df-spinner');\n",
              "          quickchartButtonEl.classList.add('colab-df-quickchart-complete');\n",
              "        }\n",
              "        (() => {\n",
              "          let quickchartButtonEl =\n",
              "            document.querySelector('#df-af8d0607-d15d-45d8-a7ed-63bad02790da button');\n",
              "          quickchartButtonEl.style.display =\n",
              "            google.colab.kernel.accessAllowed ? 'block' : 'none';\n",
              "        })();\n",
              "      </script>\n",
              "    </div>\n",
              "\n",
              "    </div>\n",
              "  </div>\n"
            ],
            "application/vnd.google.colaboratory.intrinsic+json": {
              "type": "dataframe",
              "variable_name": "customer_summary",
              "summary": "{\n  \"name\": \"customer_summary\",\n  \"rows\": 20641,\n  \"fields\": [\n    {\n      \"column\": \"Customer Id\",\n      \"properties\": {\n        \"dtype\": \"number\",\n        \"std\": 5992,\n        \"min\": 1,\n        \"max\": 20757,\n        \"num_unique_values\": 20641,\n        \"samples\": [\n          8508,\n          9754,\n          2614\n        ],\n        \"semantic_type\": \"\",\n        \"description\": \"\"\n      }\n    },\n    {\n      \"column\": \"First Purchase\",\n      \"properties\": {\n        \"dtype\": \"date\",\n        \"min\": \"2015-01-01 00:00:00\",\n        \"max\": \"2018-01-31 23:38:00\",\n        \"num_unique_values\": 20641,\n        \"samples\": [\n          \"2015-02-22 18:29:00\",\n          \"2015-04-20 23:50:00\",\n          \"2015-09-12 11:12:00\"\n        ],\n        \"semantic_type\": \"\",\n        \"description\": \"\"\n      }\n    },\n    {\n      \"column\": \"Last Purchase\",\n      \"properties\": {\n        \"dtype\": \"date\",\n        \"min\": \"2015-01-02 15:56:00\",\n        \"max\": \"2018-01-31 23:38:00\",\n        \"num_unique_values\": 20641,\n        \"samples\": [\n          \"2017-05-06 20:52:00\",\n          \"2017-07-09 12:22:00\",\n          \"2015-09-12 11:12:00\"\n        ],\n        \"semantic_type\": \"\",\n        \"description\": \"\"\n      }\n    },\n    {\n      \"column\": \"Total Orders\",\n      \"properties\": {\n        \"dtype\": \"number\",\n        \"std\": 2,\n        \"min\": 1,\n        \"max\": 15,\n        \"num_unique_values\": 15,\n        \"samples\": [\n          13,\n          11,\n          1\n        ],\n        \"semantic_type\": \"\",\n        \"description\": \"\"\n      }\n    },\n    {\n      \"column\": \"Total Sales\",\n      \"properties\": {\n        \"dtype\": \"number\",\n        \"std\": 1677.4294912680505,\n        \"min\": 11.28999996,\n        \"max\": 10524.1701776,\n        \"num_unique_values\": 12092,\n        \"samples\": [\n          2195.72004328,\n          1849.7000350600001,\n          1309.8600311\n        ],\n        \"semantic_type\": \"\",\n        \"description\": \"\"\n      }\n    },\n    {\n      \"column\": \"Recency\",\n      \"properties\": {\n        \"dtype\": \"number\",\n        \"std\": 199,\n        \"min\": 1,\n        \"max\": 1126,\n        \"num_unique_values\": 1012,\n        \"samples\": [\n          631,\n          496,\n          49\n        ],\n        \"semantic_type\": \"\",\n        \"description\": \"\"\n      }\n    },\n    {\n      \"column\": \"Frequency\",\n      \"properties\": {\n        \"dtype\": \"number\",\n        \"std\": 2,\n        \"min\": 1,\n        \"max\": 15,\n        \"num_unique_values\": 15,\n        \"samples\": [\n          13,\n          11,\n          1\n        ],\n        \"semantic_type\": \"\",\n        \"description\": \"\"\n      }\n    },\n    {\n      \"column\": \"Monetary\",\n      \"properties\": {\n        \"dtype\": \"number\",\n        \"std\": 1677.4294912680505,\n        \"min\": 11.28999996,\n        \"max\": 10524.1701776,\n        \"num_unique_values\": 12092,\n        \"samples\": [\n          2195.72004328,\n          1849.7000350600001,\n          1309.8600311\n        ],\n        \"semantic_type\": \"\",\n        \"description\": \"\"\n      }\n    },\n    {\n      \"column\": \"R_Score\",\n      \"properties\": {\n        \"dtype\": \"number\",\n        \"std\": 1,\n        \"min\": 1,\n        \"max\": 4,\n        \"num_unique_values\": 4,\n        \"samples\": [\n          3,\n          4,\n          1\n        ],\n        \"semantic_type\": \"\",\n        \"description\": \"\"\n      }\n    },\n    {\n      \"column\": \"F_Score\",\n      \"properties\": {\n        \"dtype\": \"number\",\n        \"std\": 1,\n        \"min\": 1,\n        \"max\": 4,\n        \"num_unique_values\": 4,\n        \"samples\": [\n          3,\n          4,\n          1\n        ],\n        \"semantic_type\": \"\",\n        \"description\": \"\"\n      }\n    },\n    {\n      \"column\": \"M_Score\",\n      \"properties\": {\n        \"dtype\": \"number\",\n        \"std\": 1,\n        \"min\": 1,\n        \"max\": 4,\n        \"num_unique_values\": 4,\n        \"samples\": [\n          3,\n          1,\n          2\n        ],\n        \"semantic_type\": \"\",\n        \"description\": \"\"\n      }\n    },\n    {\n      \"column\": \"RFM_Score\",\n      \"properties\": {\n        \"dtype\": \"category\",\n        \"num_unique_values\": 41,\n        \"samples\": [\n          \"124\",\n          \"233\",\n          \"334\"\n        ],\n        \"semantic_type\": \"\",\n        \"description\": \"\"\n      }\n    }\n  ]\n}"
            }
          },
          "metadata": {},
          "execution_count": 8
        }
      ]
    },
    {
      "cell_type": "markdown",
      "source": [],
      "metadata": {
        "id": "vY3165GyqW_5"
      }
    },
    {
      "cell_type": "markdown",
      "source": [
        "## **5. Visualize RFM distributions and segments**\n",
        "***\n",
        "Plot distributions for Recency, Frequency, and Monetary scores and explore segment counts.\n",
        "***\n",
        "<hr style=\"border: 1px solid red;\">"
      ],
      "metadata": {
        "id": "9xArt7aqqXb5"
      }
    },
    {
      "cell_type": "code",
      "source": [
        "fig, axs = plt.subplots(1, 3, figsize=(18, 5))\n",
        "\n",
        "sns.countplot(x='R_Score', data=customer_summary, ax=axs[0], palette='Blues')\n",
        "axs[0].set_title('Recency Score Distribution')\n",
        "\n",
        "sns.countplot(x='F_Score', data=customer_summary, ax=axs[1], palette='Greens')\n",
        "axs[1].set_title('Frequency Score Distribution')\n",
        "\n",
        "sns.countplot(x='M_Score', data=customer_summary, ax=axs[2], palette='Oranges')\n",
        "axs[2].set_title('Monetary Score Distribution')\n",
        "\n",
        "plt.tight_layout()\n",
        "plt.show()\n",
        "\n",
        "# Segment sizes\n",
        "segment_counts = customer_summary['RFM_Score'].value_counts().sort_index()\n",
        "print(segment_counts)"
      ],
      "metadata": {
        "colab": {
          "base_uri": "https://localhost:8080/",
          "height": 1000
        },
        "id": "kIBtBrRyqTV5",
        "outputId": "cb26c6c2-dec3-4fff-a944-91836a543cad"
      },
      "execution_count": 9,
      "outputs": [
        {
          "output_type": "display_data",
          "data": {
            "text/plain": [
              "<Figure size 1800x500 with 3 Axes>"
            ],
            "image/png": "[encoded data removed]"
          },
          "metadata": {}
        },
        {
          "output_type": "stream",
          "name": "stdout",
          "text": [
            "RFM_Score\n",
            "111     106\n",
            "112     351\n",
            "113       1\n",
            "121      11\n",
            "122    1024\n",
            "123     906\n",
            "124      35\n",
            "132     104\n",
            "133    1056\n",
            "134     595\n",
            "142       4\n",
            "143     144\n",
            "144     821\n",
            "211      15\n",
            "212      73\n",
            "213       2\n",
            "221       4\n",
            "222     464\n",
            "223     556\n",
            "224      19\n",
            "232     108\n",
            "233    1109\n",
            "234     787\n",
            "242       1\n",
            "243     250\n",
            "244    1744\n",
            "311    1173\n",
            "312    1599\n",
            "313     352\n",
            "321       1\n",
            "322     131\n",
            "323     190\n",
            "324      10\n",
            "332      43\n",
            "333     386\n",
            "334     308\n",
            "343     116\n",
            "344     841\n",
            "411    4132\n",
            "412     977\n",
            "413      92\n",
            "Name: count, dtype: int64\n"
          ]
        }
      ]
    },
    {
      "cell_type": "markdown",
      "source": [
        "<hr style=\"border: 1px solid red;\">"
      ],
      "metadata": {
        "id": "PlSZMFShqomQ"
      }
    },
    {
      "cell_type": "markdown",
      "source": [
        "## **6. Flag valuable customers and those at risk based on RFM Scores.**\n",
        "***\n",
        "Define customers with highest R, F, M scores as \"Best Customers\", those with low R but high M as \"At-Risk\", etc.\n",
        "***\n",
        "<hr style=\"border: 1px solid red;\">"
      ],
      "metadata": {
        "id": "bmja6pKoqrQ3"
      }
    },
    {
      "cell_type": "code",
      "source": [
        "def rfm_segment(df):\n",
        "    if df['R_Score'] >= 3 and df['F_Score'] >= 3 and df['M_Score'] >= 3:\n",
        "        return 'Best Customers'\n",
        "    elif df['R_Score'] == 1:\n",
        "        return 'At Risk'\n",
        "    elif df['R_Score'] <= 2 and df['F_Score'] >= 3:\n",
        "        return 'Loyal Customers'\n",
        "    elif df['R_Score'] >= 3 and df['F_Score'] <= 2:\n",
        "        return 'Potential Loyalist'\n",
        "    else:\n",
        "        return 'Others'\n",
        "\n",
        "customer_summary['Segment'] = customer_summary.apply(rfm_segment, axis=1)\n",
        "\n",
        "# Show segment counts\n",
        "customer_summary['Segment'].value_counts()"
      ],
      "metadata": {
        "colab": {
          "base_uri": "https://localhost:8080/",
          "height": 272
        },
        "id": "hp-9pc4wqiot",
        "outputId": "e3b1506d-54f7-4ad2-9650-34ef55b359d6"
      },
      "execution_count": 10,
      "outputs": [
        {
          "output_type": "execute_result",
          "data": {
            "text/plain": [
              "Segment\n",
              "Potential Loyalist    8657\n",
              "At Risk               5158\n",
              "Loyal Customers       3999\n",
              "Best Customers        1651\n",
              "Others                1176\n",
              "Name: count, dtype: int64"
            ],
            "text/html": [
              "<div>\n",
              "<style scoped>\n",
              "    .dataframe tbody tr th:only-of-type {\n",
              "        vertical-align: middle;\n",
              "    }\n",
              "\n",
              "    .dataframe tbody tr th {\n",
              "        vertical-align: top;\n",
              "    }\n",
              "\n",
              "    .dataframe thead th {\n",
              "        text-align: right;\n",
              "    }\n",
              "</style>\n",
              "<table border=\"1\" class=\"dataframe\">\n",
              "  <thead>\n",
              "    <tr style=\"text-align: right;\">\n",
              "      <th></th>\n",
              "      <th>count</th>\n",
              "    </tr>\n",
              "    <tr>\n",
              "      <th>Segment</th>\n",
              "      <th></th>\n",
              "    </tr>\n",
              "  </thead>\n",
              "  <tbody>\n",
              "    <tr>\n",
              "      <th>Potential Loyalist</th>\n",
              "      <td>8657</td>\n",
              "    </tr>\n",
              "    <tr>\n",
              "      <th>At Risk</th>\n",
              "      <td>5158</td>\n",
              "    </tr>\n",
              "    <tr>\n",
              "      <th>Loyal Customers</th>\n",
              "      <td>3999</td>\n",
              "    </tr>\n",
              "    <tr>\n",
              "      <th>Best Customers</th>\n",
              "      <td>1651</td>\n",
              "    </tr>\n",
              "    <tr>\n",
              "      <th>Others</th>\n",
              "      <td>1176</td>\n",
              "    </tr>\n",
              "  </tbody>\n",
              "</table>\n",
              "</div><br><label><b>dtype:</b> int64</label>"
            ]
          },
          "metadata": {},
          "execution_count": 10
        }
      ]
    },
    {
      "cell_type": "markdown",
      "source": [
        "<hr style=\"border: 1px solid red;\">"
      ],
      "metadata": {
        "id": "rtuRba3mrF0H"
      }
    },
    {
      "cell_type": "markdown",
      "source": [
        "## **7. Visualize Counts of Customer Segments**\n",
        "***\n",
        "Bar plot showing the distribution of customer segments as defined.\n",
        "***\n",
        "<hr style=\"border: 1px solid red;\">"
      ],
      "metadata": {
        "id": "jEey0uFjrF7U"
      }
    },
    {
      "cell_type": "code",
      "source": [
        "plt.figure(figsize=(10,6))\n",
        "sns.countplot(data=customer_summary, x='Segment', order=customer_summary['Segment'].value_counts().index, palette='Set2')\n",
        "plt.title('Customer Segments Distribution')\n",
        "plt.ylabel('Number of Customers')\n",
        "plt.xticks(rotation=45)\n",
        "plt.tight_layout()\n",
        "plt.show()"
      ],
      "metadata": {
        "colab": {
          "base_uri": "https://localhost:8080/",
          "height": 601
        },
        "id": "stF-6TQ3q2w9",
        "outputId": "14907fb6-2b0f-4d8e-a4be-3b379dffdb4f"
      },
      "execution_count": 11,
      "outputs": [
        {
          "output_type": "display_data",
          "data": {
            "text/plain": [
              "<Figure size 1000x600 with 1 Axes>"
            ],
            "image/png": "[encoded data removed]"
          },
          "metadata": {}
        }
      ]
    },
    {
      "cell_type": "markdown",
      "source": [
        "<hr/>\n",
        "<div class=\"alert alert-success alertsuccess\" style=\"margin-top: 20px\">\n",
        "  <ul>\n",
        "    <li><strong>What it shows:</strong> The breakdown of customers across all possible RFM score combinations (e.g., \"111\", \"224\", \"344\", etc.), where each digit represents Recency, Frequency, and Monetary score respectively (from 1=lowest to 4=highest).</li>\n",
        "    <li><strong>Interpretation:</strong> Most customers are concentrated in mid-to-high RFM score combinations—especially in groups like \"411\" (4,132 customers), \"312\" (1,599), \"244\" (1,744), and \"233\" (1,109). Higher RFM scores correspond to customers who purchase often, spend more, and buy more recently, highlighting strong retention and high-value segments. The diversity of RFM profiles suggests the business has a mix of loyal, valuable customers and segments that could benefit from targeted engagement.</li>\n",
        "  </ul>\n",
        "</div>\n",
        "<hr/>\n",
        "<hr style=\"border: 1px solid red;\">"
      ],
      "metadata": {
        "id": "t8vvTnHzsL4N"
      }
    },
    {
      "cell_type": "markdown",
      "source": [
        "## **8. Calculate basic Customer Lifetime Value (CLV) proxies and provide recommendations for marketing focus.**\n",
        "***\n",
        "CLV can be approximated by total sales and purchase frequency.\n",
        "***\n",
        "<hr style=\"border: 1px solid red;\">"
      ],
      "metadata": {
        "id": "Kk1JQ2VOsONs"
      }
    },
    {
      "cell_type": "code",
      "source": [
        "# CLV proxy = Average order value * total orders (using Monetary and Frequency)\n",
        "customer_summary['CLV'] = customer_summary['Monetary'] / customer_summary['Frequency'] * customer_summary['Frequency']\n",
        "\n",
        "# Top CLV customers\n",
        "top_clv = customer_summary.sort_values('CLV', ascending=False).head(10)\n",
        "print(top_clv[['Customer Id', 'CLV', 'Segment']])"
      ],
      "metadata": {
        "colab": {
          "base_uri": "https://localhost:8080/"
        },
        "id": "FkN25zEMsKON",
        "outputId": "3087b644-b28c-4bd6-8294-65512c6bed21"
      },
      "execution_count": 12,
      "outputs": [
        {
          "output_type": "stream",
          "name": "stdout",
          "text": [
            "      Customer Id           CLV          Segment\n",
            "782           791  10524.170178   Best Customers\n",
            "9295         9371   9299.030207   Best Customers\n",
            "8694         8766   9296.140186   Best Customers\n",
            "1636         1657   9223.710152  Loyal Customers\n",
            "2612         2641   9130.920224  Loyal Customers\n",
            "1271         1288   9019.110199  Loyal Customers\n",
            "3672         3710   9019.100208  Loyal Customers\n",
            "4209         4249   8918.850134  Loyal Customers\n",
            "5603         5654   8904.950211   Best Customers\n",
            "5573         5624   8761.980183   Best Customers\n"
          ]
        }
      ]
    },
    {
      "cell_type": "markdown",
      "source": [
        "<hr/>\n",
        "<div class=\"alert alert-success alertsuccess\" style=\"margin-top: 20px\">\n",
        "  <strong>High-Value Customers (CLV Analysis)(CLV)</strong>\n",
        "  <ul>\n",
        "    <li><strong>What it shows:</strong> The top customers by calculated Customer Lifetime Value (CLV) along with their behavioral segments (Best Customers, Loyal Customers).</li>\n",
        "    <li><strong>Interpretation:</strong> The highest-CLV customers are found in both \"Best Customers\" and \"Loyal Customers\" segments, with CLVs ranging from over 8,700 to above 10,500. These are the most profitable and engaged individuals to the business—worth prioritizing in loyalty and personalized marketing programs for maximum retention and growth.</li>\n",
        "  </ul>\n",
        "</div>\n",
        "<hr/>\n",
        "<hr style=\"border: 1px solid red;\">"
      ],
      "metadata": {
        "id": "RSqLqViOtBTw"
      }
    },
    {
      "cell_type": "markdown",
      "source": [
        "## **9. Customer Segment Recommendations and Actionable Insights**\n",
        "<hr style=\"border: 1px solid red;\">\n"
      ],
      "metadata": {
        "id": "Qd62s3VOtBaY"
      }
    },
    {
      "cell_type": "code",
      "source": [
        "# Recommendations implementation based on customer segments and CLV\n",
        "\n",
        "# Define marketing actions based on segment categories\n",
        "def customer_recommendations(segment):\n",
        "    if segment == 'Best Customers':\n",
        "        return 'Focus retention efforts with loyalty programs and personalized offers.'\n",
        "    elif segment == 'At Risk':\n",
        "        return 'Engage with reactivation campaigns and targeted incentives.'\n",
        "    elif segment == 'Loyal Customers':\n",
        "        return 'Leverage for referral programs and upselling opportunities.'\n",
        "    else:\n",
        "        return 'Tailor marketing, inventory, and service strategies to meet segment needs.'\n",
        "\n",
        "# Apply the recommendations to customer summary dataframe\n",
        "customer_summary['Recommendation'] = customer_summary['Segment'].apply(customer_recommendations)\n",
        "\n",
        "# Display sample of customers with recommendations\n",
        "print(customer_summary[['Customer Id', 'Segment', 'CLV', 'Recommendation']].head(10))"
      ],
      "metadata": {
        "colab": {
          "base_uri": "https://localhost:8080/"
        },
        "id": "nRrL9AUmssUW",
        "outputId": "2c568de5-bc83-4325-f3c2-53b764217ec3"
      },
      "execution_count": 13,
      "outputs": [
        {
          "output_type": "stream",
          "name": "stdout",
          "text": [
            "   Customer Id          Segment          CLV  \\\n",
            "0            1          At Risk   499.950012   \n",
            "1            2   Best Customers  1819.730034   \n",
            "2            3  Loyal Customers  3537.680094   \n",
            "3            4          At Risk  1719.630030   \n",
            "4            5          At Risk  1274.750023   \n",
            "5            6          At Risk  3259.510025   \n",
            "6            7  Loyal Customers  5569.480106   \n",
            "7            8   Best Customers  3763.500042   \n",
            "8            9   Best Customers  3229.680056   \n",
            "9           10           Others  1264.790012   \n",
            "\n",
            "                                      Recommendation  \n",
            "0  Engage with reactivation campaigns and targete...  \n",
            "1  Focus retention efforts with loyalty programs ...  \n",
            "2  Leverage for referral programs and upselling o...  \n",
            "3  Engage with reactivation campaigns and targete...  \n",
            "4  Engage with reactivation campaigns and targete...  \n",
            "5  Engage with reactivation campaigns and targete...  \n",
            "6  Leverage for referral programs and upselling o...  \n",
            "7  Focus retention efforts with loyalty programs ...  \n",
            "8  Focus retention efforts with loyalty programs ...  \n",
            "9  Tailor marketing, inventory, and service strat...  \n"
          ]
        }
      ]
    },
    {
      "cell_type": "markdown",
      "source": [
        "<hr/>\n",
        "<div class=\"alert alert-success alertsuccess\" style=\"margin-top: 20px\">\n",
        "  <strong>Customer Segment Recommendations and Actionable Insights</strong>\n",
        "  <ul>\n",
        "    <li><strong>What it shows:</strong> Example customers with their segment tags, calculated CLV, and automated strategic recommendations.</li>\n",
        "    <li><strong>Interpretation:</strong>\n",
        "      <ul>\n",
        "        <li><strong>Best Customers:</strong> Receive loyalty and retention-focused strategies.</li>\n",
        "        <li><strong>At Risk:</strong> Flagged for reactivation and targeted incentives to win them back.</li>\n",
        "        <li><strong>Loyal Customers:</strong> Prime targets for referral programs and upselling.</li>\n",
        "        <li><strong>Others:</strong> Guided toward more tailored outreach and service improvements.</li>\n",
        "      </ul>\n",
        "    </li>\n",
        "    <li><strong>Actionable takeaway:</strong> By aligning marketing and service tactics to these segments, the business can increase retention, reactivate at-risk customers, and maximize returns from the most lucrative individuals.</li>\n",
        "  </ul>\n",
        "</div>\n",
        "<hr/>\n",
        "<hr style=\"border: 1px solid red;\">"
      ],
      "metadata": {
        "id": "tjoF8yxsufmG"
      }
    }
  ]
}