{
  "nbformat": 4,
  "nbformat_minor": 0,
  "metadata": {
    "colab": {
      "provenance": [],
      "authorship_tag": "ABX9TyPtdHHDXLqU0rZ6og5uC5UB"
    },
    "kernelspec": {
      "name": "python3",
      "display_name": "Python 3"
    },
    "language_info": {
      "name": "python"
    }
  },
  "cells": [
    {
      "cell_type": "markdown",
      "source": [
        "## **1. Mount Google Drive and Load Data**\n",
        "---"
      ],
      "metadata": {
        "id": "c13NTLSKtNLD"
      }
    },
    {
      "cell_type": "code",
      "source": [
        "from google.colab import drive\n",
        "drive.mount('/content/drive')"
      ],
      "metadata": {
        "colab": {
          "base_uri": "https://localhost:8080/"
        },
        "id": "Lagfsh3YtPwA",
        "outputId": "abd6aa18-b8b1-419a-fbff-b8274634b6d3"
      },
      "execution_count": null,
      "outputs": [
        {
          "output_type": "stream",
          "name": "stdout",
          "text": [
            "Mounted at /content/drive\n"
          ]
        }
      ]
    },
    {
      "cell_type": "code",
      "source": [
        "import os\n",
        "supply_chain_path = '/content/drive/My Drive/supply_chain'\n",
        "print(os.listdir(supply_chain_path))"
      ],
      "metadata": {
        "colab": {
          "base_uri": "https://localhost:8080/"
        },
        "id": "XBBZyXUMtTzr",
        "outputId": "8481e421-6d8e-49bb-b4ea-805f6f1edbe7"
      },
      "execution_count": null,
      "outputs": [
        {
          "output_type": "stream",
          "name": "stdout",
          "text": [
            "['DescriptionDataCoSupplyChain.csv', 'tokenized_access_logs.csv', 'DataCoSupplyChainDataset.csv']\n"
          ]
        }
      ]
    },
    {
      "cell_type": "code",
      "source": [
        "import pandas as pd\n",
        "df = pd.read_csv('/content/drive/My Drive/supply_chain/DataCoSupplyChainDataset.csv', encoding='latin-1')"
      ],
      "metadata": {
        "id": "p8Sp0OA7tgVE"
      },
      "execution_count": null,
      "outputs": []
    },
    {
      "cell_type": "markdown",
      "source": [
        "***"
      ],
      "metadata": {
        "id": "ivYbJKALtu98"
      }
    },
    {
      "cell_type": "markdown",
      "source": [
        "## **2. Remove columns that are completely empty or not useful**\n",
        "---\n",
        ">  ***Drop columns which provide no useful information, such as those that are totally blank or have the same value in every row.***\n",
        "\n",
        "> ***If a column is empty or always the same, it can't help us learn anything or build models, so we remove it.***\n",
        "***"
      ],
      "metadata": {
        "id": "-7n2OF4atxry"
      }
    },
    {
      "cell_type": "code",
      "source": [
        "# Drop 'Product Description' (completely empty)\n",
        "df = df.drop(columns=['Product Description'])"
      ],
      "metadata": {
        "id": "0T1-rSG8tnZv"
      },
      "execution_count": 7,
      "outputs": []
    },
    {
      "cell_type": "code",
      "source": [
        "# Drop columns with one unique value (Customer Email, Customer Password, Product Status)\n",
        "drop_cols = [col for col in df.columns if df[col].nunique() <= 1]\n",
        "df = df.drop(columns=drop_cols)"
      ],
      "metadata": {
        "id": "BSO6uCssvTaE"
      },
      "execution_count": 8,
      "outputs": []
    },
    {
      "cell_type": "code",
      "source": [
        "# Drop Order Zipcode if mostly missing (optional, based on your exploration)\n",
        "df = df.drop(columns=['Order Zipcode'])"
      ],
      "metadata": {
        "id": "-gOFSrNovTiw"
      },
      "execution_count": 9,
      "outputs": []
    },
    {
      "cell_type": "markdown",
      "source": [
        "***"
      ],
      "metadata": {
        "id": "2Q8UGVnPwqpJ"
      }
    },
    {
      "cell_type": "markdown",
      "source": [
        "## **3. Handle Missing Values**\n",
        "***\n",
        "> ***Ensure missing values do not create problems for analysis.***\n",
        "\n",
        "> ***We drop rows where important info is missing if only a few rows are affected, otherwise we might fill in values or use other techniques.***\n",
        "***"
      ],
      "metadata": {
        "id": "qrnsEMn4wsWH"
      }
    },
    {
      "cell_type": "code",
      "source": [
        "# Drop rows with missing Customer Lname or Customer Zipcode\n",
        "df = df.dropna(subset=['Customer Lname', 'Customer Zipcode'])"
      ],
      "metadata": {
        "id": "Rfcj0wAZwfNJ"
      },
      "execution_count": 11,
      "outputs": []
    },
    {
      "cell_type": "markdown",
      "source": [
        "***"
      ],
      "metadata": {
        "id": "DsPHLWQyxI4n"
      }
    },
    {
      "cell_type": "markdown",
      "source": [
        "## **4. Convert Data Types**\n",
        "***\n",
        "> ***Make sure every column has the correct data type (text, number, date, category).***\n",
        "\n",
        "> ***This ensures we can run correct calculations, groupings, or time-based analysis later.***\n",
        "***"
      ],
      "metadata": {
        "id": "hdEr84_YxI-K"
      }
    },
    {
      "cell_type": "code",
      "source": [
        "# Convert dates to datetime objects\n",
        "df['order date (DateOrders)'] = pd.to_datetime(df['order date (DateOrders)'])\n",
        "df['shipping date (DateOrders)'] = pd.to_datetime(df['shipping date (DateOrders)'])"
      ],
      "metadata": {
        "id": "E_XPZiBrw_6m"
      },
      "execution_count": 12,
      "outputs": []
    },
    {
      "cell_type": "code",
      "source": [
        "# Convert relevant categorical fields to 'category' dtype\n",
        "cat_cols = ['Delivery Status', 'Category Name', 'Customer Segment', 'Shipping Mode',\n",
        "            'Order Status', 'Market', 'Order Region']\n",
        "for col in cat_cols:\n",
        "    df[col] = df[col].astype('category')"
      ],
      "metadata": {
        "id": "zPkoxc0-xVge"
      },
      "execution_count": 15,
      "outputs": []
    },
    {
      "cell_type": "markdown",
      "source": [
        "***"
      ],
      "metadata": {
        "id": "ZuyhbE8jyflH"
      }
    },
    {
      "cell_type": "markdown",
      "source": [
        "## **5. Remove Sensitive Data**\n",
        "***\n",
        "> ***Protect privacy by dropping columns that could identify individuals.***\n",
        "\n",
        "> ***Emails, addresses, and names are not needed for most analysis and shouldn’t be shared or published for privacy reasons.***\n",
        "***"
      ],
      "metadata": {
        "id": "BVgD9UOPyfs-"
      }
    },
    {
      "cell_type": "code",
      "source": [
        "# Drop PII (Personally Identifiable Information) columns for privacy\n",
        "df = df.drop(columns=['Customer Fname', 'Customer Lname', 'Customer Street'])"
      ],
      "metadata": {
        "id": "KXJI5CvTxlWt"
      },
      "execution_count": 18,
      "outputs": []
    },
    {
      "cell_type": "markdown",
      "source": [
        "***"
      ],
      "metadata": {
        "id": "Mj6yPiR-zBQo"
      }
    },
    {
      "cell_type": "markdown",
      "source": [
        "## **6. Reset Index**\n",
        "***\n",
        "> ***Keep the DataFrame indexed correctly after deleting rows.***\n",
        "***"
      ],
      "metadata": {
        "id": "obyllBvXzCBN"
      }
    },
    {
      "cell_type": "code",
      "source": [
        "df = df.reset_index(drop=True)"
      ],
      "metadata": {
        "id": "hOha90ZLy61c"
      },
      "execution_count": 19,
      "outputs": []
    },
    {
      "cell_type": "markdown",
      "source": [
        "***"
      ],
      "metadata": {
        "id": "cpLGLrhc2Inl"
      }
    },
    {
      "cell_type": "markdown",
      "source": [
        "## **7. Save the Cleaned Data**\n",
        "***\n",
        "> ***Store the preprocessed dataset for future use.***\n",
        "***"
      ],
      "metadata": {
        "id": "FMBwJHT12JE6"
      }
    },
    {
      "cell_type": "code",
      "source": [
        "df.to_csv('/content/drive/My Drive/supply_chain/supply_chain_data_cleaned.csv', index=False)"
      ],
      "metadata": {
        "id": "5OJFcd832G2q"
      },
      "execution_count": 20,
      "outputs": []
    },
    {
      "cell_type": "markdown",
      "source": [
        "***"
      ],
      "metadata": {
        "id": "JvaLu8pM2lPX"
      }
    }
  ]
}